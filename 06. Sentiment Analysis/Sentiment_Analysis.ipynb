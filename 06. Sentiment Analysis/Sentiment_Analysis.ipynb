{
  "cells": [
    {
      "cell_type": "markdown",
      "metadata": {
        "id": "oHqNkg5fvkCt"
      },
      "source": [
        "# **Working with Text Data - Preprocessing and Text to Numerical Vector**"
      ]
    },
    {
      "cell_type": "markdown",
      "metadata": {
        "id": "j7EXmMXv82BM"
      },
      "source": [
        "## 1. Importing the required libraries and Data Preparation"
      ]
    },
    {
      "cell_type": "code",
      "execution_count": null,
      "metadata": {
        "colab": {
          "base_uri": "https://localhost:8080/"
        },
        "id": "rzSaXqGYTmvx",
        "outputId": "6ee224a8-c772-4441-f55f-723bad0fcd92"
      },
      "outputs": [
        {
          "name": "stdout",
          "output_type": "stream",
          "text": [
            "Drive already mounted at /content/drive; to attempt to forcibly remount, call drive.mount(\"/content/drive\", force_remount=True).\n"
          ]
        }
      ],
      "source": [
        "from google.colab import drive\n",
        "drive.mount('/content/drive')"
      ]
    },
    {
      "cell_type": "code",
      "execution_count": null,
      "metadata": {
        "id": "j7g0g-Mywi6g"
      },
      "outputs": [],
      "source": [
        "import numpy as np\n",
        "import pandas as pd\n",
        "\n",
        "import matplotlib.pyplot as plt\n",
        "import seaborn as sns\n",
        "\n",
        "import warnings\n",
        "warnings.filterwarnings('ignore')"
      ]
    },
    {
      "cell_type": "code",
      "execution_count": null,
      "metadata": {
        "colab": {
          "base_uri": "https://localhost:8080/"
        },
        "id": "cgzA_w0jwvTc",
        "outputId": "82a698f9-6a05-43b7-e84a-f4870281a756"
      },
      "outputs": [
        {
          "data": {
            "text/html": [
              "\n",
              "  <div id=\"df-6564d899-0c86-4871-9ca8-d4e0bda14d97\">\n",
              "    <div class=\"colab-df-container\">\n",
              "      <div>\n",
              "<style scoped>\n",
              "    .dataframe tbody tr th:only-of-type {\n",
              "        vertical-align: middle;\n",
              "    }\n",
              "\n",
              "    .dataframe tbody tr th {\n",
              "        vertical-align: top;\n",
              "    }\n",
              "\n",
              "    .dataframe thead th {\n",
              "        text-align: right;\n",
              "    }\n",
              "</style>\n",
              "<table border=\"1\" class=\"dataframe\">\n",
              "  <thead>\n",
              "    <tr style=\"text-align: right;\">\n",
              "      <th></th>\n",
              "      <th>ProductId</th>\n",
              "      <th>UserId</th>\n",
              "      <th>ProfileName</th>\n",
              "      <th>HelpfulnessNumerator</th>\n",
              "      <th>HelpfulnessDenominator</th>\n",
              "      <th>Score</th>\n",
              "      <th>Time</th>\n",
              "      <th>ReviewSummary</th>\n",
              "      <th>ReviewText</th>\n",
              "      <th>Id</th>\n",
              "    </tr>\n",
              "  </thead>\n",
              "  <tbody>\n",
              "    <tr>\n",
              "      <th>0</th>\n",
              "      <td>B001E4KFG0</td>\n",
              "      <td>A3SGXH7AUHU8GW</td>\n",
              "      <td>delmartian</td>\n",
              "      <td>1</td>\n",
              "      <td>1</td>\n",
              "      <td>5</td>\n",
              "      <td>1303862400</td>\n",
              "      <td>Good Quality Dog Food</td>\n",
              "      <td>I have bought several of the Vitality canned d...</td>\n",
              "      <td>0</td>\n",
              "    </tr>\n",
              "    <tr>\n",
              "      <th>1</th>\n",
              "      <td>B00813GRG4</td>\n",
              "      <td>A1D87F6ZCVE5NK</td>\n",
              "      <td>dll pa</td>\n",
              "      <td>0</td>\n",
              "      <td>0</td>\n",
              "      <td>1</td>\n",
              "      <td>1346976000</td>\n",
              "      <td>Not as Advertised</td>\n",
              "      <td>Product arrived labeled as Jumbo Salted Peanut...</td>\n",
              "      <td>1</td>\n",
              "    </tr>\n",
              "    <tr>\n",
              "      <th>2</th>\n",
              "      <td>B000LQOCH0</td>\n",
              "      <td>ABXLMWJIXXAIN</td>\n",
              "      <td>Natalia Corres Natalia Corres</td>\n",
              "      <td>1</td>\n",
              "      <td>1</td>\n",
              "      <td>4</td>\n",
              "      <td>1219017600</td>\n",
              "      <td>Delight says it all</td>\n",
              "      <td>This is a confection that has been around a fe...</td>\n",
              "      <td>2</td>\n",
              "    </tr>\n",
              "    <tr>\n",
              "      <th>3</th>\n",
              "      <td>B000UA0QIQ</td>\n",
              "      <td>A395BORC6FGVXV</td>\n",
              "      <td>Karl</td>\n",
              "      <td>3</td>\n",
              "      <td>3</td>\n",
              "      <td>2</td>\n",
              "      <td>1307923200</td>\n",
              "      <td>Cough Medicine</td>\n",
              "      <td>If you are looking for the secret ingredient i...</td>\n",
              "      <td>3</td>\n",
              "    </tr>\n",
              "    <tr>\n",
              "      <th>4</th>\n",
              "      <td>B006K2ZZ7K</td>\n",
              "      <td>A1UQRSCLF8GW1T</td>\n",
              "      <td>Michael D. Bigham M. Wassir</td>\n",
              "      <td>0</td>\n",
              "      <td>0</td>\n",
              "      <td>5</td>\n",
              "      <td>1350777600</td>\n",
              "      <td>Great taffy</td>\n",
              "      <td>Great taffy at a great price. There was a wide...</td>\n",
              "      <td>4</td>\n",
              "    </tr>\n",
              "  </tbody>\n",
              "</table>\n",
              "</div>\n",
              "      <button class=\"colab-df-convert\" onclick=\"convertToInteractive('df-6564d899-0c86-4871-9ca8-d4e0bda14d97')\"\n",
              "              title=\"Convert this dataframe to an interactive table.\"\n",
              "              style=\"display:none;\">\n",
              "        \n",
              "  <svg xmlns=\"http://www.w3.org/2000/svg\" height=\"24px\"viewBox=\"0 0 24 24\"\n",
              "       width=\"24px\">\n",
              "    <path d=\"M0 0h24v24H0V0z\" fill=\"none\"/>\n",
              "    <path d=\"M18.56 5.44l.94 2.06.94-2.06 2.06-.94-2.06-.94-.94-2.06-.94 2.06-2.06.94zm-11 1L8.5 8.5l.94-2.06 2.06-.94-2.06-.94L8.5 2.5l-.94 2.06-2.06.94zm10 10l.94 2.06.94-2.06 2.06-.94-2.06-.94-.94-2.06-.94 2.06-2.06.94z\"/><path d=\"M17.41 7.96l-1.37-1.37c-.4-.4-.92-.59-1.43-.59-.52 0-1.04.2-1.43.59L10.3 9.45l-7.72 7.72c-.78.78-.78 2.05 0 2.83L4 21.41c.39.39.9.59 1.41.59.51 0 1.02-.2 1.41-.59l7.78-7.78 2.81-2.81c.8-.78.8-2.07 0-2.86zM5.41 20L4 18.59l7.72-7.72 1.47 1.35L5.41 20z\"/>\n",
              "  </svg>\n",
              "      </button>\n",
              "      \n",
              "  <style>\n",
              "    .colab-df-container {\n",
              "      display:flex;\n",
              "      flex-wrap:wrap;\n",
              "      gap: 12px;\n",
              "    }\n",
              "\n",
              "    .colab-df-convert {\n",
              "      background-color: #E8F0FE;\n",
              "      border: none;\n",
              "      border-radius: 50%;\n",
              "      cursor: pointer;\n",
              "      display: none;\n",
              "      fill: #1967D2;\n",
              "      height: 32px;\n",
              "      padding: 0 0 0 0;\n",
              "      width: 32px;\n",
              "    }\n",
              "\n",
              "    .colab-df-convert:hover {\n",
              "      background-color: #E2EBFA;\n",
              "      box-shadow: 0px 1px 2px rgba(60, 64, 67, 0.3), 0px 1px 3px 1px rgba(60, 64, 67, 0.15);\n",
              "      fill: #174EA6;\n",
              "    }\n",
              "\n",
              "    [theme=dark] .colab-df-convert {\n",
              "      background-color: #3B4455;\n",
              "      fill: #D2E3FC;\n",
              "    }\n",
              "\n",
              "    [theme=dark] .colab-df-convert:hover {\n",
              "      background-color: #434B5C;\n",
              "      box-shadow: 0px 1px 3px 1px rgba(0, 0, 0, 0.15);\n",
              "      filter: drop-shadow(0px 1px 2px rgba(0, 0, 0, 0.3));\n",
              "      fill: #FFFFFF;\n",
              "    }\n",
              "  </style>\n",
              "\n",
              "      <script>\n",
              "        const buttonEl =\n",
              "          document.querySelector('#df-6564d899-0c86-4871-9ca8-d4e0bda14d97 button.colab-df-convert');\n",
              "        buttonEl.style.display =\n",
              "          google.colab.kernel.accessAllowed ? 'block' : 'none';\n",
              "\n",
              "        async function convertToInteractive(key) {\n",
              "          const element = document.querySelector('#df-6564d899-0c86-4871-9ca8-d4e0bda14d97');\n",
              "          const dataTable =\n",
              "            await google.colab.kernel.invokeFunction('convertToInteractive',\n",
              "                                                     [key], {});\n",
              "          if (!dataTable) return;\n",
              "\n",
              "          const docLinkHtml = 'Like what you see? Visit the ' +\n",
              "            '<a target=\"_blank\" href=https://colab.research.google.com/notebooks/data_table.ipynb>data table notebook</a>'\n",
              "            + ' to learn more about interactive tables.';\n",
              "          element.innerHTML = '';\n",
              "          dataTable['output_type'] = 'display_data';\n",
              "          await google.colab.output.renderOutput(dataTable, element);\n",
              "          const docLink = document.createElement('div');\n",
              "          docLink.innerHTML = docLinkHtml;\n",
              "          element.appendChild(docLink);\n",
              "        }\n",
              "      </script>\n",
              "    </div>\n",
              "  </div>\n",
              "  "
            ],
            "text/plain": [
              "    ProductId          UserId                     ProfileName  \\\n",
              "0  B001E4KFG0  A3SGXH7AUHU8GW                      delmartian   \n",
              "1  B00813GRG4  A1D87F6ZCVE5NK                          dll pa   \n",
              "2  B000LQOCH0   ABXLMWJIXXAIN   Natalia Corres Natalia Corres   \n",
              "3  B000UA0QIQ  A395BORC6FGVXV                            Karl   \n",
              "4  B006K2ZZ7K  A1UQRSCLF8GW1T     Michael D. Bigham M. Wassir   \n",
              "\n",
              "   HelpfulnessNumerator  HelpfulnessDenominator  Score        Time  \\\n",
              "0                     1                       1      5  1303862400   \n",
              "1                     0                       0      1  1346976000   \n",
              "2                     1                       1      4  1219017600   \n",
              "3                     3                       3      2  1307923200   \n",
              "4                     0                       0      5  1350777600   \n",
              "\n",
              "            ReviewSummary                                         ReviewText  \\\n",
              "0   Good Quality Dog Food  I have bought several of the Vitality canned d...   \n",
              "1       Not as Advertised  Product arrived labeled as Jumbo Salted Peanut...   \n",
              "2     Delight says it all  This is a confection that has been around a fe...   \n",
              "3          Cough Medicine  If you are looking for the secret ingredient i...   \n",
              "4             Great taffy  Great taffy at a great price. There was a wide...   \n",
              "\n",
              "   Id  \n",
              "0   0  \n",
              "1   1  \n",
              "2   2  \n",
              "3   3  \n",
              "4   4  "
            ]
          },
          "execution_count": 5,
          "metadata": {},
          "output_type": "execute_result"
        }
      ],
      "source": [
        "df = pd.read_csv('/content/drive/MyDrive/Data Science/Colab Notebooks/data/review_data.csv')\n",
        "df.head()"
      ]
    },
    {
      "cell_type": "code",
      "execution_count": null,
      "metadata": {
        "colab": {
          "base_uri": "https://localhost:8080/"
        },
        "id": "h7tarudhwxW6",
        "outputId": "10ff3690-80a0-401c-e6e6-d3d80ab1488b"
      },
      "outputs": [
        {
          "name": "stdout",
          "output_type": "stream",
          "text": [
            "Looking in indexes: https://pypi.org/simple, https://us-python.pkg.dev/colab-wheels/public/simple/\n",
            "Requirement already satisfied: nltk in /usr/local/lib/python3.7/dist-packages (3.7)\n",
            "Requirement already satisfied: tqdm in /usr/local/lib/python3.7/dist-packages (from nltk) (4.64.1)\n",
            "Requirement already satisfied: click in /usr/local/lib/python3.7/dist-packages (from nltk) (7.1.2)\n",
            "Requirement already satisfied: joblib in /usr/local/lib/python3.7/dist-packages (from nltk) (1.2.0)\n",
            "Requirement already satisfied: regex>=2021.8.3 in /usr/local/lib/python3.7/dist-packages (from nltk) (2022.6.2)\n"
          ]
        }
      ],
      "source": [
        "!pip install nltk #installing Natural Language Tool kit"
      ]
    },
    {
      "cell_type": "code",
      "execution_count": null,
      "metadata": {
        "colab": {
          "base_uri": "https://localhost:8080/"
        },
        "id": "wN9A4okww2DL",
        "outputId": "f9254cf9-1ce0-4f8b-a775-535669c1d08b"
      },
      "outputs": [
        {
          "name": "stderr",
          "output_type": "stream",
          "text": [
            "[nltk_data] Downloading package stopwords to /root/nltk_data...\n",
            "[nltk_data]   Unzipping corpora/stopwords.zip.\n",
            "[nltk_data] Downloading package wordnet to /root/nltk_data...\n"
          ]
        },
        {
          "data": {
            "text/plain": [
              "True"
            ]
          },
          "execution_count": 7,
          "metadata": {},
          "output_type": "execute_result"
        }
      ],
      "source": [
        "import nltk\n",
        "nltk.download('stopwords') # downloading the stopwords, this is available in nltk.corpus, which is not already dowloaded we have to manually download it.\n",
        "# Downloading wordnet before applying Lemmatizer\n",
        "nltk.download('wordnet') # this is used to apply lemmatizer, as it contains all the human redable words."
      ]
    },
    {
      "cell_type": "code",
      "execution_count": null,
      "metadata": {
        "id": "PNAdchikw5qA"
      },
      "outputs": [],
      "source": [
        "# Regx\n",
        "import re \n",
        "\n",
        "# importing Tokenisation and stopwords\n",
        "import nltk\n",
        "from nltk.tokenize import word_tokenize\n",
        "from nltk.corpus import stopwords\n",
        "\n",
        "# Stemming and Lemmatizer\n",
        "from nltk.stem.porter import PorterStemmer\n",
        "from nltk.stem import WordNetLemmatizer"
      ]
    },
    {
      "cell_type": "markdown",
      "metadata": {
        "id": "ny7pasVsGcX6"
      },
      "source": [
        "## 2. Text Preprocessing   "
      ]
    },
    {
      "cell_type": "markdown",
      "metadata": {
        "id": "lOuRqXwK895d"
      },
      "source": [
        "1.   Removing special characters\n",
        "2.   Convert sentence into lower case\n",
        "3.   Tokenisation\n",
        "4.   Removing stop words\n",
        "5.   Stemming or Lemmatization"
      ]
    },
    {
      "cell_type": "code",
      "execution_count": null,
      "metadata": {
        "id": "r7rpFfdXxuVU"
      },
      "outputs": [],
      "source": [
        "# initialise the in-built stemmer\n",
        "stemmer = PorterStemmer()\n",
        "\n",
        "# alternative way Lemmatizer\n",
        "lemmatizer = WordNetLemmatizer()"
      ]
    },
    {
      "cell_type": "code",
      "execution_count": null,
      "metadata": {
        "id": "CuKTmGymAa6c"
      },
      "outputs": [],
      "source": [
        "def preprocess(raw_text, flag):\n",
        "  # removing special characters and digits\n",
        "  sentence = re.sub('[^a-zA-Z]',' ', raw_text) \n",
        "\n",
        "  # change sentence to lower case\n",
        "  sentence = sentence.lower()\n",
        "\n",
        "  # tokenize into words\n",
        "  tokens = sentence.split()\n",
        "\n",
        "  # remove stop words\n",
        "  clean_tokens = [t for t in tokens if not t in stopwords.words('english')] \n",
        "\n",
        "  # Stemming/lemmatization\n",
        "  if (flag == 'stem'):\n",
        "    clean_tokens = [stemmer.stem(word) for word in clean_tokens]\n",
        "  else:\n",
        "    clean_tokens = [lemmatizer.lemmatize(word) for word in clean_tokens]\n",
        "\n",
        "  return pd.Series([' '.join(clean_tokens)])"
      ]
    },
    {
      "cell_type": "code",
      "execution_count": null,
      "metadata": {
        "colab": {
          "base_uri": "https://localhost:8080/"
        },
        "id": "NmZqDpiiPETV",
        "outputId": "ff9678e1-6387-48f3-e25d-dd491ec5b450"
      },
      "outputs": [
        {
          "name": "stderr",
          "output_type": "stream",
          "text": [
            "[nltk_data] Downloading package omw-1.4 to /root/nltk_data...\n"
          ]
        },
        {
          "data": {
            "text/plain": [
              "True"
            ]
          },
          "execution_count": 11,
          "metadata": {},
          "output_type": "execute_result"
        }
      ],
      "source": [
        "import nltk\n",
        "nltk.download('omw-1.4')"
      ]
    },
    {
      "cell_type": "code",
      "execution_count": null,
      "metadata": {
        "colab": {
          "base_uri": "https://localhost:8080/"
        },
        "id": "hFQoLHoXifhD",
        "outputId": "1385a0e8-9e82-43cd-a1f2-9c69a0424eaa"
      },
      "outputs": [
        {
          "name": "stdout",
          "output_type": "stream",
          "text": [
            "Looking in indexes: https://pypi.org/simple, https://us-python.pkg.dev/colab-wheels/public/simple/\n",
            "Requirement already satisfied: tqdm in /usr/local/lib/python3.7/dist-packages (4.64.1)\n"
          ]
        }
      ],
      "source": [
        "!pip install tqdm"
      ]
    },
    {
      "cell_type": "code",
      "execution_count": null,
      "metadata": {
        "id": "EvzWu49KimRS"
      },
      "outputs": [],
      "source": [
        "from tqdm import tqdm, tqdm_notebook"
      ]
    },
    {
      "cell_type": "code",
      "execution_count": null,
      "metadata": {
        "id": "GgvW1FZ5ivMR"
      },
      "outputs": [],
      "source": [
        "tqdm.pandas()"
      ]
    },
    {
      "cell_type": "code",
      "execution_count": null,
      "metadata": {
        "id": "xR_BBfMYiXnS"
      },
      "outputs": [],
      "source": [
        "#temp_df = df['ReviewText'].progress_apply(lambda x : preprocess(x, 'lemm'))\n",
        "\n",
        "#temp_df.head()"
      ]
    },
    {
      "cell_type": "code",
      "execution_count": null,
      "metadata": {
        "id": "aEnX0bBAPJ7o"
      },
      "outputs": [],
      "source": [
        "#temp_df = df['ReviewText'].apply(lambda x : preprocess(x, 'lemm'))\n",
        "\n",
        "#temp_df.head()"
      ]
    },
    {
      "cell_type": "code",
      "execution_count": null,
      "metadata": {
        "id": "iwF_sNtm0klx"
      },
      "outputs": [],
      "source": [
        "#temp_df.columns = ['clean_text_lemma']\n",
        "\n",
        "#temp_df.head()"
      ]
    },
    {
      "cell_type": "code",
      "execution_count": null,
      "metadata": {
        "id": "HvAtT4WE0nfC"
      },
      "outputs": [],
      "source": [
        "#df = pd.concat([temp_df,df['Score']], axis=1)\n",
        "\n",
        "#df.head()"
      ]
    },
    {
      "cell_type": "code",
      "execution_count": null,
      "metadata": {
        "id": "xSQkt5tkmXhZ"
      },
      "outputs": [],
      "source": [
        "#df.loc[df['Score']<3, 'Score'] = 0\n",
        "#df.loc[df['Score']>3, 'Score'] = 1\n",
        "#df=df[df.Score!=3]"
      ]
    },
    {
      "cell_type": "code",
      "execution_count": null,
      "metadata": {
        "id": "iELInM1Smmtg"
      },
      "outputs": [],
      "source": [
        "#df.head()"
      ]
    },
    {
      "cell_type": "code",
      "execution_count": null,
      "metadata": {
        "id": "7j4eBjy9M817"
      },
      "outputs": [],
      "source": [
        "#df.to_csv('/content/drive/MyDrive/Data Science/Colab Notebooks/data/review_data_cleaned_1.csv', index=False)"
      ]
    },
    {
      "cell_type": "markdown",
      "metadata": {
        "id": "kYSjztZNXs1H"
      },
      "source": [
        "## 3.Splitting the data"
      ]
    },
    {
      "cell_type": "code",
      "execution_count": null,
      "metadata": {
        "colab": {
          "base_uri": "https://localhost:8080/"
        },
        "id": "tn3lIEUTYB-d",
        "outputId": "8a3e6e2e-3ec6-4c45-e476-a6e6e2a7b1d9"
      },
      "outputs": [
        {
          "data": {
            "text/html": [
              "\n",
              "  <div id=\"df-baa22fbe-3b3a-40f3-84b1-602ae180eb38\">\n",
              "    <div class=\"colab-df-container\">\n",
              "      <div>\n",
              "<style scoped>\n",
              "    .dataframe tbody tr th:only-of-type {\n",
              "        vertical-align: middle;\n",
              "    }\n",
              "\n",
              "    .dataframe tbody tr th {\n",
              "        vertical-align: top;\n",
              "    }\n",
              "\n",
              "    .dataframe thead th {\n",
              "        text-align: right;\n",
              "    }\n",
              "</style>\n",
              "<table border=\"1\" class=\"dataframe\">\n",
              "  <thead>\n",
              "    <tr style=\"text-align: right;\">\n",
              "      <th></th>\n",
              "      <th>clean_text_lemma</th>\n",
              "      <th>Score</th>\n",
              "    </tr>\n",
              "  </thead>\n",
              "  <tbody>\n",
              "    <tr>\n",
              "      <th>0</th>\n",
              "      <td>bought several vitality canned dog food produc...</td>\n",
              "      <td>1</td>\n",
              "    </tr>\n",
              "    <tr>\n",
              "      <th>1</th>\n",
              "      <td>product arrived labeled jumbo salted peanut pe...</td>\n",
              "      <td>0</td>\n",
              "    </tr>\n",
              "    <tr>\n",
              "      <th>2</th>\n",
              "      <td>confection around century light pillowy citrus...</td>\n",
              "      <td>1</td>\n",
              "    </tr>\n",
              "    <tr>\n",
              "      <th>3</th>\n",
              "      <td>looking secret ingredient robitussin believe f...</td>\n",
              "      <td>0</td>\n",
              "    </tr>\n",
              "    <tr>\n",
              "      <th>4</th>\n",
              "      <td>great taffy great price wide assortment yummy ...</td>\n",
              "      <td>1</td>\n",
              "    </tr>\n",
              "  </tbody>\n",
              "</table>\n",
              "</div>\n",
              "      <button class=\"colab-df-convert\" onclick=\"convertToInteractive('df-baa22fbe-3b3a-40f3-84b1-602ae180eb38')\"\n",
              "              title=\"Convert this dataframe to an interactive table.\"\n",
              "              style=\"display:none;\">\n",
              "        \n",
              "  <svg xmlns=\"http://www.w3.org/2000/svg\" height=\"24px\"viewBox=\"0 0 24 24\"\n",
              "       width=\"24px\">\n",
              "    <path d=\"M0 0h24v24H0V0z\" fill=\"none\"/>\n",
              "    <path d=\"M18.56 5.44l.94 2.06.94-2.06 2.06-.94-2.06-.94-.94-2.06-.94 2.06-2.06.94zm-11 1L8.5 8.5l.94-2.06 2.06-.94-2.06-.94L8.5 2.5l-.94 2.06-2.06.94zm10 10l.94 2.06.94-2.06 2.06-.94-2.06-.94-.94-2.06-.94 2.06-2.06.94z\"/><path d=\"M17.41 7.96l-1.37-1.37c-.4-.4-.92-.59-1.43-.59-.52 0-1.04.2-1.43.59L10.3 9.45l-7.72 7.72c-.78.78-.78 2.05 0 2.83L4 21.41c.39.39.9.59 1.41.59.51 0 1.02-.2 1.41-.59l7.78-7.78 2.81-2.81c.8-.78.8-2.07 0-2.86zM5.41 20L4 18.59l7.72-7.72 1.47 1.35L5.41 20z\"/>\n",
              "  </svg>\n",
              "      </button>\n",
              "      \n",
              "  <style>\n",
              "    .colab-df-container {\n",
              "      display:flex;\n",
              "      flex-wrap:wrap;\n",
              "      gap: 12px;\n",
              "    }\n",
              "\n",
              "    .colab-df-convert {\n",
              "      background-color: #E8F0FE;\n",
              "      border: none;\n",
              "      border-radius: 50%;\n",
              "      cursor: pointer;\n",
              "      display: none;\n",
              "      fill: #1967D2;\n",
              "      height: 32px;\n",
              "      padding: 0 0 0 0;\n",
              "      width: 32px;\n",
              "    }\n",
              "\n",
              "    .colab-df-convert:hover {\n",
              "      background-color: #E2EBFA;\n",
              "      box-shadow: 0px 1px 2px rgba(60, 64, 67, 0.3), 0px 1px 3px 1px rgba(60, 64, 67, 0.15);\n",
              "      fill: #174EA6;\n",
              "    }\n",
              "\n",
              "    [theme=dark] .colab-df-convert {\n",
              "      background-color: #3B4455;\n",
              "      fill: #D2E3FC;\n",
              "    }\n",
              "\n",
              "    [theme=dark] .colab-df-convert:hover {\n",
              "      background-color: #434B5C;\n",
              "      box-shadow: 0px 1px 3px 1px rgba(0, 0, 0, 0.15);\n",
              "      filter: drop-shadow(0px 1px 2px rgba(0, 0, 0, 0.3));\n",
              "      fill: #FFFFFF;\n",
              "    }\n",
              "  </style>\n",
              "\n",
              "      <script>\n",
              "        const buttonEl =\n",
              "          document.querySelector('#df-baa22fbe-3b3a-40f3-84b1-602ae180eb38 button.colab-df-convert');\n",
              "        buttonEl.style.display =\n",
              "          google.colab.kernel.accessAllowed ? 'block' : 'none';\n",
              "\n",
              "        async function convertToInteractive(key) {\n",
              "          const element = document.querySelector('#df-baa22fbe-3b3a-40f3-84b1-602ae180eb38');\n",
              "          const dataTable =\n",
              "            await google.colab.kernel.invokeFunction('convertToInteractive',\n",
              "                                                     [key], {});\n",
              "          if (!dataTable) return;\n",
              "\n",
              "          const docLinkHtml = 'Like what you see? Visit the ' +\n",
              "            '<a target=\"_blank\" href=https://colab.research.google.com/notebooks/data_table.ipynb>data table notebook</a>'\n",
              "            + ' to learn more about interactive tables.';\n",
              "          element.innerHTML = '';\n",
              "          dataTable['output_type'] = 'display_data';\n",
              "          await google.colab.output.renderOutput(dataTable, element);\n",
              "          const docLink = document.createElement('div');\n",
              "          docLink.innerHTML = docLinkHtml;\n",
              "          element.appendChild(docLink);\n",
              "        }\n",
              "      </script>\n",
              "    </div>\n",
              "  </div>\n",
              "  "
            ],
            "text/plain": [
              "                                    clean_text_lemma  Score\n",
              "0  bought several vitality canned dog food produc...      1\n",
              "1  product arrived labeled jumbo salted peanut pe...      0\n",
              "2  confection around century light pillowy citrus...      1\n",
              "3  looking secret ingredient robitussin believe f...      0\n",
              "4  great taffy great price wide assortment yummy ...      1"
            ]
          },
          "execution_count": 22,
          "metadata": {},
          "output_type": "execute_result"
        }
      ],
      "source": [
        "df = pd.read_csv('/content/drive/MyDrive/Data Science/Colab Notebooks/data/review_data_cleaned_1.csv')\n",
        "df.head()"
      ]
    },
    {
      "cell_type": "code",
      "execution_count": null,
      "metadata": {
        "colab": {
          "base_uri": "https://localhost:8080/"
        },
        "id": "6xxcJ7ANX37a",
        "outputId": "782661d2-d182-47c7-93c2-fd3eab897101"
      },
      "outputs": [
        {
          "data": {
            "text/plain": [
              "1"
            ]
          },
          "execution_count": 23,
          "metadata": {},
          "output_type": "execute_result"
        }
      ],
      "source": [
        "df['clean_text_lemma'].isnull().sum()"
      ]
    },
    {
      "cell_type": "code",
      "execution_count": null,
      "metadata": {
        "colab": {
          "base_uri": "https://localhost:8080/"
        },
        "id": "QBAJOWMoYBSw",
        "outputId": "01389f93-14f6-475d-bb75-f4c0363f1300"
      },
      "outputs": [
        {
          "data": {
            "text/plain": [
              "(525814, 2)"
            ]
          },
          "execution_count": 24,
          "metadata": {},
          "output_type": "execute_result"
        }
      ],
      "source": [
        "df.shape"
      ]
    },
    {
      "cell_type": "code",
      "execution_count": null,
      "metadata": {
        "id": "4IjfftEKX-ak"
      },
      "outputs": [],
      "source": [
        "df = df[pd.notnull(df['clean_text_lemma'])]"
      ]
    },
    {
      "cell_type": "code",
      "execution_count": null,
      "metadata": {
        "colab": {
          "base_uri": "https://localhost:8080/"
        },
        "id": "a-1pJTXqX-m3",
        "outputId": "ba6cb245-ed91-46a0-9a73-b467355c722d"
      },
      "outputs": [
        {
          "data": {
            "text/plain": [
              "(525813, 2)"
            ]
          },
          "execution_count": 26,
          "metadata": {},
          "output_type": "execute_result"
        }
      ],
      "source": [
        "df.shape"
      ]
    },
    {
      "cell_type": "code",
      "execution_count": null,
      "metadata": {
        "id": "4XvjXdsJYDPg"
      },
      "outputs": [],
      "source": [
        "X = df[['clean_text_lemma']]\n",
        "y = df['Score']"
      ]
    },
    {
      "cell_type": "code",
      "execution_count": null,
      "metadata": {
        "id": "uczjz5V-YGO2"
      },
      "outputs": [],
      "source": [
        "from sklearn.model_selection import train_test_split\n",
        "\n",
        "X_train, X_test, y_train, y_test = train_test_split(X, y, test_size=0.3, random_state=100)"
      ]
    },
    {
      "cell_type": "code",
      "execution_count": null,
      "metadata": {
        "colab": {
          "base_uri": "https://localhost:8080/"
        },
        "id": "2mhcCkc-sESq",
        "outputId": "5541a313-a157-436a-cfdf-1263a9df94f3"
      },
      "outputs": [
        {
          "data": {
            "text/html": [
              "\n",
              "  <div id=\"df-e940acb1-eafa-456d-b89a-31b58f38a661\">\n",
              "    <div class=\"colab-df-container\">\n",
              "      <div>\n",
              "<style scoped>\n",
              "    .dataframe tbody tr th:only-of-type {\n",
              "        vertical-align: middle;\n",
              "    }\n",
              "\n",
              "    .dataframe tbody tr th {\n",
              "        vertical-align: top;\n",
              "    }\n",
              "\n",
              "    .dataframe thead th {\n",
              "        text-align: right;\n",
              "    }\n",
              "</style>\n",
              "<table border=\"1\" class=\"dataframe\">\n",
              "  <thead>\n",
              "    <tr style=\"text-align: right;\">\n",
              "      <th></th>\n",
              "      <th>clean_text_lemma</th>\n",
              "    </tr>\n",
              "  </thead>\n",
              "  <tbody>\n",
              "    <tr>\n",
              "      <th>184290</th>\n",
              "      <td>year past grocery store carried brown bread al...</td>\n",
              "    </tr>\n",
              "    <tr>\n",
              "      <th>266565</th>\n",
              "      <td>like reviewer noted never eat soy lecithin des...</td>\n",
              "    </tr>\n",
              "    <tr>\n",
              "      <th>150742</th>\n",
              "      <td>got talking one friend healthy product benefit...</td>\n",
              "    </tr>\n",
              "    <tr>\n",
              "      <th>174377</th>\n",
              "      <td>really enjoy hi chew except mango happy see of...</td>\n",
              "    </tr>\n",
              "    <tr>\n",
              "      <th>4483</th>\n",
              "      <td>family love tasty healthy sesame honey almond ...</td>\n",
              "    </tr>\n",
              "  </tbody>\n",
              "</table>\n",
              "</div>\n",
              "      <button class=\"colab-df-convert\" onclick=\"convertToInteractive('df-e940acb1-eafa-456d-b89a-31b58f38a661')\"\n",
              "              title=\"Convert this dataframe to an interactive table.\"\n",
              "              style=\"display:none;\">\n",
              "        \n",
              "  <svg xmlns=\"http://www.w3.org/2000/svg\" height=\"24px\"viewBox=\"0 0 24 24\"\n",
              "       width=\"24px\">\n",
              "    <path d=\"M0 0h24v24H0V0z\" fill=\"none\"/>\n",
              "    <path d=\"M18.56 5.44l.94 2.06.94-2.06 2.06-.94-2.06-.94-.94-2.06-.94 2.06-2.06.94zm-11 1L8.5 8.5l.94-2.06 2.06-.94-2.06-.94L8.5 2.5l-.94 2.06-2.06.94zm10 10l.94 2.06.94-2.06 2.06-.94-2.06-.94-.94-2.06-.94 2.06-2.06.94z\"/><path d=\"M17.41 7.96l-1.37-1.37c-.4-.4-.92-.59-1.43-.59-.52 0-1.04.2-1.43.59L10.3 9.45l-7.72 7.72c-.78.78-.78 2.05 0 2.83L4 21.41c.39.39.9.59 1.41.59.51 0 1.02-.2 1.41-.59l7.78-7.78 2.81-2.81c.8-.78.8-2.07 0-2.86zM5.41 20L4 18.59l7.72-7.72 1.47 1.35L5.41 20z\"/>\n",
              "  </svg>\n",
              "      </button>\n",
              "      \n",
              "  <style>\n",
              "    .colab-df-container {\n",
              "      display:flex;\n",
              "      flex-wrap:wrap;\n",
              "      gap: 12px;\n",
              "    }\n",
              "\n",
              "    .colab-df-convert {\n",
              "      background-color: #E8F0FE;\n",
              "      border: none;\n",
              "      border-radius: 50%;\n",
              "      cursor: pointer;\n",
              "      display: none;\n",
              "      fill: #1967D2;\n",
              "      height: 32px;\n",
              "      padding: 0 0 0 0;\n",
              "      width: 32px;\n",
              "    }\n",
              "\n",
              "    .colab-df-convert:hover {\n",
              "      background-color: #E2EBFA;\n",
              "      box-shadow: 0px 1px 2px rgba(60, 64, 67, 0.3), 0px 1px 3px 1px rgba(60, 64, 67, 0.15);\n",
              "      fill: #174EA6;\n",
              "    }\n",
              "\n",
              "    [theme=dark] .colab-df-convert {\n",
              "      background-color: #3B4455;\n",
              "      fill: #D2E3FC;\n",
              "    }\n",
              "\n",
              "    [theme=dark] .colab-df-convert:hover {\n",
              "      background-color: #434B5C;\n",
              "      box-shadow: 0px 1px 3px 1px rgba(0, 0, 0, 0.15);\n",
              "      filter: drop-shadow(0px 1px 2px rgba(0, 0, 0, 0.3));\n",
              "      fill: #FFFFFF;\n",
              "    }\n",
              "  </style>\n",
              "\n",
              "      <script>\n",
              "        const buttonEl =\n",
              "          document.querySelector('#df-e940acb1-eafa-456d-b89a-31b58f38a661 button.colab-df-convert');\n",
              "        buttonEl.style.display =\n",
              "          google.colab.kernel.accessAllowed ? 'block' : 'none';\n",
              "\n",
              "        async function convertToInteractive(key) {\n",
              "          const element = document.querySelector('#df-e940acb1-eafa-456d-b89a-31b58f38a661');\n",
              "          const dataTable =\n",
              "            await google.colab.kernel.invokeFunction('convertToInteractive',\n",
              "                                                     [key], {});\n",
              "          if (!dataTable) return;\n",
              "\n",
              "          const docLinkHtml = 'Like what you see? Visit the ' +\n",
              "            '<a target=\"_blank\" href=https://colab.research.google.com/notebooks/data_table.ipynb>data table notebook</a>'\n",
              "            + ' to learn more about interactive tables.';\n",
              "          element.innerHTML = '';\n",
              "          dataTable['output_type'] = 'display_data';\n",
              "          await google.colab.output.renderOutput(dataTable, element);\n",
              "          const docLink = document.createElement('div');\n",
              "          docLink.innerHTML = docLinkHtml;\n",
              "          element.appendChild(docLink);\n",
              "        }\n",
              "      </script>\n",
              "    </div>\n",
              "  </div>\n",
              "  "
            ],
            "text/plain": [
              "                                         clean_text_lemma\n",
              "184290  year past grocery store carried brown bread al...\n",
              "266565  like reviewer noted never eat soy lecithin des...\n",
              "150742  got talking one friend healthy product benefit...\n",
              "174377  really enjoy hi chew except mango happy see of...\n",
              "4483    family love tasty healthy sesame honey almond ..."
            ]
          },
          "execution_count": 29,
          "metadata": {},
          "output_type": "execute_result"
        }
      ],
      "source": [
        "X_train.head()"
      ]
    },
    {
      "cell_type": "code",
      "execution_count": null,
      "metadata": {
        "colab": {
          "base_uri": "https://localhost:8080/"
        },
        "id": "H7tHj4z9YJcn",
        "outputId": "55d52688-c5fc-4c91-fe9f-e5208f0398fc"
      },
      "outputs": [
        {
          "data": {
            "text/plain": [
              "((368069, 1), (157744, 1), (368069,), (157744,))"
            ]
          },
          "execution_count": 30,
          "metadata": {},
          "output_type": "execute_result"
        }
      ],
      "source": [
        "X_train.shape,X_test.shape, y_train.shape, y_test.shape"
      ]
    },
    {
      "cell_type": "code",
      "execution_count": null,
      "metadata": {
        "colab": {
          "base_uri": "https://localhost:8080/"
        },
        "id": "QvO4mkJ4VpZv",
        "outputId": "71d508c8-8a13-4207-da5c-b5c1ab5c0a57"
      },
      "outputs": [
        {
          "name": "stdout",
          "output_type": "stream",
          "text": [
            "<class 'pandas.core.frame.DataFrame'>\n",
            "Int64Index: 368069 entries, 184290 to 56088\n",
            "Data columns (total 1 columns):\n",
            " #   Column            Non-Null Count   Dtype \n",
            "---  ------            --------------   ----- \n",
            " 0   clean_text_lemma  368069 non-null  object\n",
            "dtypes: object(1)\n",
            "memory usage: 5.6+ MB\n"
          ]
        }
      ],
      "source": [
        "X_train.info()"
      ]
    },
    {
      "cell_type": "markdown",
      "metadata": {
        "id": "7sB-StJHGnY8"
      },
      "source": [
        "## 4. Converting Text to Numerical vectors - BOW Representation"
      ]
    },
    {
      "cell_type": "markdown",
      "metadata": {
        "id": "cW8SuyI2D0f-"
      },
      "source": [
        "1.   Vocabulary\n",
        "2.   Document term matrix\n",
        "\n"
      ]
    },
    {
      "cell_type": "code",
      "execution_count": null,
      "metadata": {
        "colab": {
          "base_uri": "https://localhost:8080/"
        },
        "id": "zPPzhQMevfJy",
        "outputId": "b27a19b2-cd7a-41bc-fa09-c7b7ddb87c51"
      },
      "outputs": [
        {
          "data": {
            "text/plain": [
              "184290    year past grocery store carried brown bread al...\n",
              "266565    like reviewer noted never eat soy lecithin des...\n",
              "150742    got talking one friend healthy product benefit...\n",
              "174377    really enjoy hi chew except mango happy see of...\n",
              "4483      family love tasty healthy sesame honey almond ...\n",
              "Name: clean_text_lemma, dtype: object"
            ]
          },
          "execution_count": 32,
          "metadata": {},
          "output_type": "execute_result"
        }
      ],
      "source": [
        "X_train['clean_text_lemma'].head()"
      ]
    },
    {
      "cell_type": "code",
      "execution_count": null,
      "metadata": {
        "id": "6dSylrxgD3hK"
      },
      "outputs": [],
      "source": [
        "from sklearn.feature_extraction.text import CountVectorizer # BOW is present in the CountVectorizer\n",
        "\n",
        "BOW_vocab = CountVectorizer()\n",
        "\n",
        "X_train_BOW = BOW_vocab.fit_transform(X_train['clean_text_lemma']) #constructing the document term matrix, this dtm is in the form of sparse but not in dataframe. sparse: only contains 1 ignores 0 "
      ]
    },
    {
      "cell_type": "code",
      "execution_count": null,
      "metadata": {
        "colab": {
          "base_uri": "https://localhost:8080/"
        },
        "id": "oGyuGzjPFK6c",
        "outputId": "d71f374a-b4fa-4b95-aa64-13f0eeae3bc4"
      },
      "outputs": [
        {
          "data": {
            "text/plain": [
              "(368069, 85055)"
            ]
          },
          "execution_count": 34,
          "metadata": {},
          "output_type": "execute_result"
        }
      ],
      "source": [
        "X_train_BOW.shape"
      ]
    },
    {
      "cell_type": "code",
      "execution_count": null,
      "metadata": {
        "colab": {
          "base_uri": "https://localhost:8080/"
        },
        "id": "D2mad4icZ9FL",
        "outputId": "06189ca9-c535-428d-c7e0-b12db00500a8"
      },
      "outputs": [
        {
          "data": {
            "text/plain": [
              "scipy.sparse.csr.csr_matrix"
            ]
          },
          "execution_count": 35,
          "metadata": {},
          "output_type": "execute_result"
        }
      ],
      "source": [
        "type(X_train_BOW)"
      ]
    },
    {
      "cell_type": "code",
      "execution_count": null,
      "metadata": {
        "id": "UuoUwdOydj2X"
      },
      "outputs": [],
      "source": [
        "#X_train_BOW = pd.DataFrame(X_train_BOW.toarray(), columns = sorted(BOW_vocab.vocabulary_))\n",
        "#X_train_BOW"
      ]
    },
    {
      "cell_type": "code",
      "execution_count": null,
      "metadata": {
        "id": "hThY9qfywCB8"
      },
      "outputs": [],
      "source": [
        "# **2-grams**\n",
        "#vocab = CountVectorizer(ngram_range=[1,2])\n",
        "\n",
        "#X_train_BOW_bigram = vocab.fit_transform(df.clean_text_lemma)\n",
        "\n",
        "# X_train_BOW_bigram = pd.DataFrame(dtX_train_BOW_bigram.toarray(), columns = sorted(vocab.vocabulary_))"
      ]
    },
    {
      "cell_type": "code",
      "execution_count": null,
      "metadata": {
        "id": "xSe4cfG1Tnv8"
      },
      "outputs": [],
      "source": [
        "X_test_BOW = BOW_vocab.transform(X_test['clean_text_lemma'])\n",
        "\n",
        "# X_test_BOW = pd.DataFrame(X_test_BOW.toarray(), columns = sorted(BOW_vocab.vocabulary_))"
      ]
    },
    {
      "cell_type": "code",
      "execution_count": null,
      "metadata": {
        "id": "uuIV6i2U-NMw"
      },
      "outputs": [],
      "source": [
        "#X_test_BOW_bigram = BOW_vocab.transform(X_test['clean_text_lemma'])"
      ]
    },
    {
      "cell_type": "code",
      "execution_count": null,
      "metadata": {
        "colab": {
          "base_uri": "https://localhost:8080/"
        },
        "id": "s9TJ_mOu4L0H",
        "outputId": "7540e5b4-da83-4802-930f-e927ef7f6cab"
      },
      "outputs": [
        {
          "data": {
            "text/plain": [
              "((368069, 1), (157744, 1), (368069,), (157744,))"
            ]
          },
          "execution_count": 40,
          "metadata": {},
          "output_type": "execute_result"
        }
      ],
      "source": [
        "X_train.shape,X_test.shape, y_train.shape, y_test.shape"
      ]
    },
    {
      "cell_type": "code",
      "execution_count": null,
      "metadata": {
        "colab": {
          "base_uri": "https://localhost:8080/"
        },
        "id": "7L-jPEh94M_1",
        "outputId": "b7273c94-56ee-456c-eedf-85943e8578a4"
      },
      "outputs": [
        {
          "data": {
            "text/plain": [
              "((368069, 85055), (157744, 85055))"
            ]
          },
          "execution_count": 41,
          "metadata": {},
          "output_type": "execute_result"
        }
      ],
      "source": [
        "X_train_BOW.shape, X_test_BOW.shape"
      ]
    },
    {
      "cell_type": "markdown",
      "metadata": {
        "id": "GU4siZ1Rk_fn"
      },
      "source": [
        "# **Machine Learning Model**"
      ]
    },
    {
      "cell_type": "markdown",
      "metadata": {
        "id": "TqlM78EHlMNk"
      },
      "source": [
        "## 1. Logistic Regression"
      ]
    },
    {
      "cell_type": "code",
      "execution_count": null,
      "metadata": {
        "id": "eYw4IRkfCsrD"
      },
      "outputs": [],
      "source": [
        "from sklearn.linear_model import LogisticRegression\n",
        "from sklearn.model_selection import GridSearchCV, RandomizedSearchCV"
      ]
    },
    {
      "cell_type": "code",
      "execution_count": null,
      "metadata": {
        "colab": {
          "background_save": true
        },
        "id": "KLaZkcqYvJ0K",
        "outputId": "5989970c-0529-4337-9730-ebf57c2630dc"
      },
      "outputs": [
        {
          "name": "stdout",
          "output_type": "stream",
          "text": [
            "Fitting 5 folds for each of 10 candidates, totalling 50 fits\n",
            "[CV 1/5] END C=100, penalty=elasticnet, solver=saga;, score=(train=nan, test=nan) total time=   0.0s\n",
            "[CV 2/5] END C=100, penalty=elasticnet, solver=saga;, score=(train=nan, test=nan) total time=   0.0s\n",
            "[CV 3/5] END C=100, penalty=elasticnet, solver=saga;, score=(train=nan, test=nan) total time=   0.0s\n",
            "[CV 4/5] END C=100, penalty=elasticnet, solver=saga;, score=(train=nan, test=nan) total time=   0.0s\n",
            "[CV 5/5] END C=100, penalty=elasticnet, solver=saga;, score=(train=nan, test=nan) total time=   0.0s\n",
            "[CV 1/5] END C=0.1, penalty=elasticnet, solver=saga;, score=(train=nan, test=nan) total time=   0.0s\n",
            "[CV 2/5] END C=0.1, penalty=elasticnet, solver=saga;, score=(train=nan, test=nan) total time=   0.0s\n",
            "[CV 3/5] END C=0.1, penalty=elasticnet, solver=saga;, score=(train=nan, test=nan) total time=   0.0s\n",
            "[CV 4/5] END C=0.1, penalty=elasticnet, solver=saga;, score=(train=nan, test=nan) total time=   0.0s\n",
            "[CV 5/5] END C=0.1, penalty=elasticnet, solver=saga;, score=(train=nan, test=nan) total time=   0.0s\n",
            "[CV 1/5] END C=0.1, penalty=l2, solver=saga;, score=(train=0.929, test=0.925) total time=  36.8s\n",
            "[CV 2/5] END C=0.1, penalty=l2, solver=saga;, score=(train=0.929, test=0.925) total time=  35.9s\n",
            "[CV 3/5] END C=0.1, penalty=l2, solver=saga;, score=(train=0.929, test=0.925) total time=  36.0s\n",
            "[CV 4/5] END C=0.1, penalty=l2, solver=saga;, score=(train=0.930, test=0.927) total time=  35.7s\n",
            "[CV 5/5] END C=0.1, penalty=l2, solver=saga;, score=(train=0.929, test=0.926) total time=  35.7s\n",
            "[CV 1/5] END C=0.001, penalty=l2, solver=saga;, score=(train=0.900, test=0.898) total time=  35.9s\n",
            "[CV 2/5] END C=0.001, penalty=l2, solver=saga;, score=(train=0.899, test=0.900) total time=  35.5s\n",
            "[CV 3/5] END C=0.001, penalty=l2, solver=saga;, score=(train=0.899, test=0.899) total time=  35.6s\n",
            "[CV 4/5] END C=0.001, penalty=l2, solver=saga;, score=(train=0.899, test=0.898) total time=  35.6s\n",
            "[CV 5/5] END C=0.001, penalty=l2, solver=saga;, score=(train=0.900, test=0.897) total time=  35.4s\n",
            "[CV 1/5] END C=1, penalty=l1, solver=saga;, score=(train=0.928, test=0.925) total time=46.3min\n",
            "[CV 2/5] END C=1, penalty=l1, solver=saga;, score=(train=0.929, test=0.925) total time=46.7min\n",
            "[CV 3/5] END C=1, penalty=l1, solver=saga;, score=(train=0.929, test=0.925) total time=45.9min\n",
            "[CV 4/5] END C=1, penalty=l1, solver=saga;, score=(train=0.929, test=0.927) total time=45.2min\n",
            "[CV 5/5] END C=1, penalty=l1, solver=saga;, score=(train=0.929, test=0.926) total time=45.6min\n",
            "[CV 1/5] END C=100, penalty=l2, solver=saga;, score=(train=0.929, test=0.926) total time=  34.6s\n",
            "[CV 2/5] END C=100, penalty=l2, solver=saga;, score=(train=0.929, test=0.925) total time=  34.8s\n",
            "[CV 3/5] END C=100, penalty=l2, solver=saga;, score=(train=0.929, test=0.926) total time=  34.6s\n",
            "[CV 4/5] END C=100, penalty=l2, solver=saga;, score=(train=0.930, test=0.927) total time=  34.9s\n",
            "[CV 5/5] END C=100, penalty=l2, solver=saga;, score=(train=0.929, test=0.926) total time=  35.0s\n",
            "[CV 1/5] END C=10, penalty=elasticnet, solver=saga;, score=(train=nan, test=nan) total time=   0.0s\n",
            "[CV 2/5] END C=10, penalty=elasticnet, solver=saga;, score=(train=nan, test=nan) total time=   0.0s\n",
            "[CV 3/5] END C=10, penalty=elasticnet, solver=saga;, score=(train=nan, test=nan) total time=   0.0s\n",
            "[CV 4/5] END C=10, penalty=elasticnet, solver=saga;, score=(train=nan, test=nan) total time=   0.0s\n",
            "[CV 5/5] END C=10, penalty=elasticnet, solver=saga;, score=(train=nan, test=nan) total time=   0.0s\n",
            "[CV 1/5] END C=0.01, penalty=l2, solver=saga;, score=(train=0.925, test=0.922) total time=  35.1s\n",
            "[CV 2/5] END C=0.01, penalty=l2, solver=saga;, score=(train=0.925, test=0.922) total time=  35.0s\n",
            "[CV 3/5] END C=0.01, penalty=l2, solver=saga;, score=(train=0.925, test=0.921) total time=  34.0s\n",
            "[CV 4/5] END C=0.01, penalty=l2, solver=saga;, score=(train=0.925, test=0.923) total time=  34.9s\n",
            "[CV 5/5] END C=0.01, penalty=l2, solver=saga;, score=(train=0.925, test=0.922) total time=  34.2s\n",
            "[CV 1/5] END C=10, penalty=l2, solver=saga;, score=(train=0.929, test=0.926) total time=  35.1s\n",
            "[CV 2/5] END C=10, penalty=l2, solver=saga;, score=(train=0.929, test=0.925) total time=  35.1s\n",
            "[CV 3/5] END C=10, penalty=l2, solver=saga;, score=(train=0.929, test=0.926) total time=  34.8s\n",
            "[CV 4/5] END C=10, penalty=l2, solver=saga;, score=(train=0.930, test=0.927) total time=  34.4s\n",
            "[CV 5/5] END C=10, penalty=l2, solver=saga;, score=(train=0.929, test=0.926) total time=  34.6s\n",
            "[CV 1/5] END C=0.01, penalty=l1, solver=saga;, score=(train=0.908, test=0.908) total time= 1.6min\n",
            "[CV 2/5] END C=0.01, penalty=l1, solver=saga;, score=(train=0.908, test=0.908) total time= 1.7min\n",
            "[CV 3/5] END C=0.01, penalty=l1, solver=saga;, score=(train=0.909, test=0.908) total time= 1.7min\n",
            "[CV 4/5] END C=0.01, penalty=l1, solver=saga;, score=(train=0.908, test=0.908) total time= 1.6min\n",
            "[CV 5/5] END C=0.01, penalty=l1, solver=saga;, score=(train=0.909, test=0.907) total time= 1.7min\n"
          ]
        },
        {
          "data": {
            "text/plain": [
              "RandomizedSearchCV(cv=5, estimator=LogisticRegression(),\n",
              "                   param_distributions=[{'C': [0.001, 0.01, 0.1, 1, 10, 100],\n",
              "                                         'penalty': ['l1', 'l2', 'elasticnet'],\n",
              "                                         'solver': ['saga']}],\n",
              "                   return_train_score=True, scoring='accuracy', verbose=3)"
            ]
          },
          "execution_count": 33,
          "metadata": {},
          "output_type": "execute_result"
        }
      ],
      "source": [
        "tuned_parameters = [{'penalty' : ['l1','l2', 'elasticnet'],\n",
        "                    'solver' : ['saga'],\n",
        "                     'C' : [0.001,0.01,0.1, 1, 10, 100]}]\n",
        "\n",
        "lr_rs = RandomizedSearchCV(\n",
        "    estimator=LogisticRegression(), \n",
        "    param_distributions=tuned_parameters, \n",
        "    scoring='accuracy',\n",
        "    cv=5,\n",
        "    return_train_score=True,\n",
        "    verbose=3\n",
        ")\n",
        "\n",
        "\n",
        "lr_rs.fit(X_train_BOW, y_train)"
      ]
    },
    {
      "cell_type": "code",
      "execution_count": null,
      "metadata": {
        "colab": {
          "background_save": true
        },
        "id": "O0VEB5eavMli",
        "outputId": "42769def-efaa-468f-d459-9a4107afccda"
      },
      "outputs": [
        {
          "name": "stdout",
          "output_type": "stream",
          "text": [
            "Best parameters set found on train set:\n",
            "{'solver': 'saga', 'penalty': 'l2', 'C': 100}\n",
            "LogisticRegression(C=100, solver='saga')\n",
            "\n",
            "Score on Test Data:  0.9259369611522467\n"
          ]
        }
      ],
      "source": [
        "print(\"Best parameters set found on train set:\")\n",
        "print(lr_rs.best_params_)\n",
        "print(lr_rs.best_estimator_)\n",
        "print()\n",
        "\n",
        "print('Score on Test Data: ', lr_rs.score(X_test_BOW, y_test))"
      ]
    },
    {
      "cell_type": "code",
      "execution_count": null,
      "metadata": {
        "id": "l-W-AEYEr6sG"
      },
      "outputs": [],
      "source": [
        "from sklearn.model_selection import GridSearchCV, RandomizedSearchCV\n",
        "from sklearn.metrics import classification_report"
      ]
    },
    {
      "cell_type": "code",
      "execution_count": null,
      "metadata": {
        "colab": {
          "base_uri": "https://localhost:8080/"
        },
        "id": "q_t8vHT4r78L",
        "outputId": "322a256b-ae82-40e1-f210-4fe41e3c2186"
      },
      "outputs": [
        {
          "data": {
            "text/plain": [
              "LogisticRegression(C=0.1, solver='saga')"
            ]
          },
          "execution_count": 44,
          "metadata": {},
          "output_type": "execute_result"
        }
      ],
      "source": [
        "from sklearn.linear_model import LogisticRegression\n",
        "classifier = LogisticRegression(penalty='l2', solver='saga', C=0.1)\n",
        "classifier.fit(X_train_BOW, y_train)"
      ]
    },
    {
      "cell_type": "code",
      "execution_count": null,
      "metadata": {
        "id": "GiPWa3Zxr-gi"
      },
      "outputs": [],
      "source": [
        "y_test_pred = classifier.predict(X_test_BOW)"
      ]
    },
    {
      "cell_type": "code",
      "execution_count": null,
      "metadata": {
        "colab": {
          "base_uri": "https://localhost:8080/"
        },
        "id": "x6-51h0nsIMq",
        "outputId": "40376a55-5663-4c59-c1d2-ce06da83a96b"
      },
      "outputs": [
        {
          "name": "stdout",
          "output_type": "stream",
          "text": [
            "0.9254107921695912\n",
            "              precision    recall  f1-score   support\n",
            "\n",
            "           0       0.83      0.66      0.73     24637\n",
            "           1       0.94      0.98      0.96    133107\n",
            "\n",
            "    accuracy                           0.93    157744\n",
            "   macro avg       0.88      0.82      0.84    157744\n",
            "weighted avg       0.92      0.93      0.92    157744\n",
            "\n"
          ]
        }
      ],
      "source": [
        "from sklearn.metrics import accuracy_score, classification_report\n",
        "\n",
        "print(accuracy_score(y_test, y_test_pred))\n",
        "\n",
        "print(classification_report(y_test, y_test_pred))"
      ]
    },
    {
      "cell_type": "markdown",
      "metadata": {
        "id": "9BmsHCKz47ya"
      },
      "source": [
        "## 2. Naive Bayes"
      ]
    },
    {
      "cell_type": "code",
      "execution_count": null,
      "metadata": {
        "id": "nI5dvJowEGdT"
      },
      "outputs": [],
      "source": [
        "from sklearn.naive_bayes import MultinomialNB"
      ]
    },
    {
      "cell_type": "code",
      "execution_count": null,
      "metadata": {
        "colab": {
          "base_uri": "https://localhost:8080/"
        },
        "id": "MO20K_DEJY_n",
        "outputId": "8236d7e7-8355-48d8-bbd5-4252af1e8149"
      },
      "outputs": [
        {
          "name": "stdout",
          "output_type": "stream",
          "text": [
            "Fitting 5 folds for each of 5 candidates, totalling 25 fits\n",
            "[CV 1/5] END .....alpha=0.1;, score=(train=0.924, test=0.910) total time=   0.2s\n",
            "[CV 2/5] END .....alpha=0.1;, score=(train=0.924, test=0.909) total time=   0.2s\n",
            "[CV 3/5] END .....alpha=0.1;, score=(train=0.924, test=0.908) total time=   0.2s\n",
            "[CV 4/5] END .....alpha=0.1;, score=(train=0.925, test=0.910) total time=   0.2s\n",
            "[CV 5/5] END .....alpha=0.1;, score=(train=0.924, test=0.909) total time=   0.2s\n",
            "[CV 1/5] END .......alpha=1;, score=(train=0.918, test=0.909) total time=   0.2s\n",
            "[CV 2/5] END .......alpha=1;, score=(train=0.918, test=0.909) total time=   0.2s\n",
            "[CV 3/5] END .......alpha=1;, score=(train=0.919, test=0.907) total time=   0.2s\n",
            "[CV 4/5] END .......alpha=1;, score=(train=0.918, test=0.909) total time=   0.2s\n",
            "[CV 5/5] END .......alpha=1;, score=(train=0.918, test=0.909) total time=   0.2s\n",
            "[CV 1/5] END ......alpha=10;, score=(train=0.884, test=0.882) total time=   0.2s\n",
            "[CV 2/5] END ......alpha=10;, score=(train=0.885, test=0.882) total time=   0.2s\n",
            "[CV 3/5] END ......alpha=10;, score=(train=0.885, test=0.883) total time=   0.2s\n",
            "[CV 4/5] END ......alpha=10;, score=(train=0.884, test=0.883) total time=   0.2s\n",
            "[CV 5/5] END ......alpha=10;, score=(train=0.885, test=0.882) total time=   0.2s\n",
            "[CV 1/5] END .....alpha=100;, score=(train=0.844, test=0.844) total time=   0.2s\n",
            "[CV 2/5] END .....alpha=100;, score=(train=0.844, test=0.844) total time=   0.2s\n",
            "[CV 3/5] END .....alpha=100;, score=(train=0.844, test=0.844) total time=   0.2s\n",
            "[CV 4/5] END .....alpha=100;, score=(train=0.844, test=0.844) total time=   0.2s\n",
            "[CV 5/5] END .....alpha=100;, score=(train=0.844, test=0.844) total time=   0.2s\n",
            "[CV 1/5] END ....alpha=1000;, score=(train=0.844, test=0.844) total time=   0.2s\n",
            "[CV 2/5] END ....alpha=1000;, score=(train=0.844, test=0.844) total time=   0.2s\n",
            "[CV 3/5] END ....alpha=1000;, score=(train=0.844, test=0.844) total time=   0.2s\n",
            "[CV 4/5] END ....alpha=1000;, score=(train=0.844, test=0.844) total time=   0.2s\n",
            "[CV 5/5] END ....alpha=1000;, score=(train=0.844, test=0.844) total time=   0.2s\n"
          ]
        },
        {
          "data": {
            "text/plain": [
              "RandomizedSearchCV(cv=5, estimator=MultinomialNB(),\n",
              "                   param_distributions=[{'alpha': [0.1, 1, 10, 100, 1000]}],\n",
              "                   return_train_score=True, scoring='accuracy', verbose=3)"
            ]
          },
          "execution_count": 31,
          "metadata": {},
          "output_type": "execute_result"
        }
      ],
      "source": [
        "tuned_parameters = [{'alpha': [0.1, 1, 10, 100, 1000]}]\n",
        "\n",
        "sv_rs = RandomizedSearchCV(\n",
        "    estimator=MultinomialNB(), \n",
        "    param_distributions=tuned_parameters, \n",
        "    scoring='accuracy',\n",
        "    cv=5,\n",
        "    return_train_score=True,\n",
        "    verbose=3\n",
        ")\n",
        "\n",
        "sv_rs.fit(X_train_BOW, y_train)"
      ]
    },
    {
      "cell_type": "code",
      "execution_count": null,
      "metadata": {
        "colab": {
          "base_uri": "https://localhost:8080/"
        },
        "id": "rJ2_BuboKh2b",
        "outputId": "0e202675-a628-4580-a604-34b3d75b2ec1"
      },
      "outputs": [
        {
          "name": "stdout",
          "output_type": "stream",
          "text": [
            "Best parameters set found on train set:\n",
            "{'alpha': 0.1}\n",
            "MultinomialNB(alpha=0.1)\n",
            "\n",
            "Score on Test Data:  0.9111408357845623\n"
          ]
        }
      ],
      "source": [
        "print(\"Best parameters set found on train set:\")\n",
        "print(sv_rs.best_params_)\n",
        "print(sv_rs.best_estimator_)\n",
        "print()\n",
        "\n",
        "print('Score on Test Data: ', sv_rs.score(X_test_BOW, y_test))"
      ]
    },
    {
      "cell_type": "code",
      "execution_count": null,
      "metadata": {
        "colab": {
          "base_uri": "https://localhost:8080/"
        },
        "id": "kzQ_2ona6Tq5",
        "outputId": "492a449e-0a9a-40cd-e990-d3ddc66be1d6"
      },
      "outputs": [
        {
          "name": "stdout",
          "output_type": "stream",
          "text": [
            "0.9101962673699158\n",
            "              precision    recall  f1-score   support\n",
            "\n",
            "           0       0.72      0.70      0.71     24637\n",
            "           1       0.94      0.95      0.95    133107\n",
            "\n",
            "    accuracy                           0.91    157744\n",
            "   macro avg       0.83      0.82      0.83    157744\n",
            "weighted avg       0.91      0.91      0.91    157744\n",
            "\n"
          ]
        }
      ],
      "source": [
        "from sklearn.metrics import accuracy_score, classification_report\n",
        "\n",
        "print(accuracy_score(y_test, y_test_pred))\n",
        "\n",
        "print(classification_report(y_test, y_test_pred))"
      ]
    },
    {
      "cell_type": "markdown",
      "metadata": {
        "id": "0Ry16R1LlalC"
      },
      "source": [
        "## 3. Decision Tree classifier"
      ]
    },
    {
      "cell_type": "code",
      "execution_count": null,
      "metadata": {
        "id": "Bz-Jqse1dkRY"
      },
      "outputs": [],
      "source": [
        "from sklearn.tree import DecisionTreeClassifier"
      ]
    },
    {
      "cell_type": "code",
      "execution_count": null,
      "metadata": {
        "colab": {
          "base_uri": "https://localhost:8080/"
        },
        "id": "xNLxHS-4codp",
        "outputId": "362ff232-8501-493d-e090-72d9ed559c8d"
      },
      "outputs": [
        {
          "name": "stdout",
          "output_type": "stream",
          "text": [
            "Fitting 5 folds for each of 10 candidates, totalling 50 fits\n",
            "[CV 1/5] END criterion=gini, max_depth=1;, score=(train=0.844, test=0.843) total time=  11.7s\n",
            "[CV 2/5] END criterion=gini, max_depth=1;, score=(train=0.844, test=0.844) total time=  11.7s\n",
            "[CV 3/5] END criterion=gini, max_depth=1;, score=(train=0.844, test=0.844) total time=  11.5s\n",
            "[CV 4/5] END criterion=gini, max_depth=1;, score=(train=0.844, test=0.844) total time=  11.5s\n",
            "[CV 5/5] END criterion=gini, max_depth=1;, score=(train=0.844, test=0.845) total time=  11.6s\n",
            "[CV 1/5] END criterion=gini, max_depth=2;, score=(train=0.850, test=0.849) total time=  11.8s\n",
            "[CV 2/5] END criterion=gini, max_depth=2;, score=(train=0.850, test=0.850) total time=  12.1s\n",
            "[CV 3/5] END criterion=gini, max_depth=2;, score=(train=0.850, test=0.850) total time=  12.0s\n",
            "[CV 4/5] END criterion=gini, max_depth=2;, score=(train=0.850, test=0.850) total time=  12.0s\n",
            "[CV 5/5] END criterion=gini, max_depth=2;, score=(train=0.846, test=0.847) total time=  12.0s\n",
            "[CV 1/5] END criterion=gini, max_depth=3;, score=(train=0.852, test=0.851) total time=  11.7s\n",
            "[CV 2/5] END criterion=gini, max_depth=3;, score=(train=0.852, test=0.851) total time=  12.3s\n",
            "[CV 3/5] END criterion=gini, max_depth=3;, score=(train=0.851, test=0.851) total time=  12.2s\n",
            "[CV 4/5] END criterion=gini, max_depth=3;, score=(train=0.852, test=0.851) total time=  12.1s\n",
            "[CV 5/5] END criterion=gini, max_depth=3;, score=(train=0.851, test=0.852) total time=  12.3s\n",
            "[CV 1/5] END criterion=gini, max_depth=4;, score=(train=0.853, test=0.852) total time=  12.5s\n",
            "[CV 2/5] END criterion=gini, max_depth=4;, score=(train=0.853, test=0.853) total time=  12.8s\n",
            "[CV 3/5] END criterion=gini, max_depth=4;, score=(train=0.853, test=0.853) total time=  12.7s\n",
            "[CV 4/5] END criterion=gini, max_depth=4;, score=(train=0.853, test=0.852) total time=  12.8s\n",
            "[CV 5/5] END criterion=gini, max_depth=4;, score=(train=0.853, test=0.853) total time=  13.1s\n",
            "[CV 1/5] END criterion=gini, max_depth=5;, score=(train=0.855, test=0.853) total time=  13.5s\n",
            "[CV 2/5] END criterion=gini, max_depth=5;, score=(train=0.854, test=0.854) total time=  13.4s\n",
            "[CV 3/5] END criterion=gini, max_depth=5;, score=(train=0.855, test=0.854) total time=  13.4s\n",
            "[CV 4/5] END criterion=gini, max_depth=5;, score=(train=0.854, test=0.856) total time=  13.4s\n",
            "[CV 5/5] END criterion=gini, max_depth=5;, score=(train=0.855, test=0.854) total time=  13.6s\n",
            "[CV 1/5] END criterion=entropy, max_depth=1;, score=(train=0.844, test=0.844) total time=  11.3s\n",
            "[CV 2/5] END criterion=entropy, max_depth=1;, score=(train=0.844, test=0.844) total time=  11.4s\n",
            "[CV 3/5] END criterion=entropy, max_depth=1;, score=(train=0.844, test=0.844) total time=  11.4s\n",
            "[CV 4/5] END criterion=entropy, max_depth=1;, score=(train=0.844, test=0.844) total time=  11.3s\n",
            "[CV 5/5] END criterion=entropy, max_depth=1;, score=(train=0.844, test=0.844) total time=  11.5s\n",
            "[CV 1/5] END criterion=entropy, max_depth=2;, score=(train=0.844, test=0.844) total time=  11.8s\n",
            "[CV 2/5] END criterion=entropy, max_depth=2;, score=(train=0.844, test=0.844) total time=  12.0s\n",
            "[CV 3/5] END criterion=entropy, max_depth=2;, score=(train=0.844, test=0.844) total time=  11.7s\n",
            "[CV 4/5] END criterion=entropy, max_depth=2;, score=(train=0.844, test=0.844) total time=  11.7s\n",
            "[CV 5/5] END criterion=entropy, max_depth=2;, score=(train=0.844, test=0.844) total time=  12.1s\n",
            "[CV 1/5] END criterion=entropy, max_depth=3;, score=(train=0.844, test=0.844) total time=  12.4s\n",
            "[CV 2/5] END criterion=entropy, max_depth=3;, score=(train=0.844, test=0.844) total time=  12.2s\n",
            "[CV 3/5] END criterion=entropy, max_depth=3;, score=(train=0.844, test=0.845) total time=  12.3s\n",
            "[CV 4/5] END criterion=entropy, max_depth=3;, score=(train=0.844, test=0.844) total time=  12.3s\n",
            "[CV 5/5] END criterion=entropy, max_depth=3;, score=(train=0.844, test=0.844) total time=  12.4s\n",
            "[CV 1/5] END criterion=entropy, max_depth=4;, score=(train=0.849, test=0.848) total time=  12.8s\n",
            "[CV 2/5] END criterion=entropy, max_depth=4;, score=(train=0.849, test=0.849) total time=  12.9s\n",
            "[CV 3/5] END criterion=entropy, max_depth=4;, score=(train=0.849, test=0.849) total time=  12.9s\n",
            "[CV 4/5] END criterion=entropy, max_depth=4;, score=(train=0.849, test=0.849) total time=  12.8s\n",
            "[CV 5/5] END criterion=entropy, max_depth=4;, score=(train=0.849, test=0.849) total time=  13.0s\n",
            "[CV 1/5] END criterion=entropy, max_depth=5;, score=(train=0.850, test=0.849) total time=  13.8s\n",
            "[CV 2/5] END criterion=entropy, max_depth=5;, score=(train=0.850, test=0.850) total time=  14.0s\n",
            "[CV 3/5] END criterion=entropy, max_depth=5;, score=(train=0.850, test=0.850) total time=  14.1s\n",
            "[CV 4/5] END criterion=entropy, max_depth=5;, score=(train=0.850, test=0.850) total time=  13.7s\n",
            "[CV 5/5] END criterion=entropy, max_depth=5;, score=(train=0.850, test=0.850) total time=  14.0s\n"
          ]
        },
        {
          "data": {
            "text/plain": [
              "RandomizedSearchCV(cv=5, estimator=DecisionTreeClassifier(),\n",
              "                   param_distributions={'criterion': ['gini', 'entropy'],\n",
              "                                        'max_depth': [1, 2, 3, 4, 5]},\n",
              "                   return_train_score=True, scoring='accuracy', verbose=3)"
            ]
          },
          "execution_count": 39,
          "metadata": {},
          "output_type": "execute_result"
        }
      ],
      "source": [
        "tuned_parameters = {'criterion' : ['gini','entropy'],\n",
        "                    'max_depth' : [1,2,3,4,5]}\n",
        "\n",
        "dt_rs = RandomizedSearchCV(\n",
        "    estimator=DecisionTreeClassifier(), \n",
        "    param_distributions=tuned_parameters, \n",
        "    scoring='accuracy',\n",
        "    cv=5,\n",
        "    return_train_score=True,\n",
        "    verbose=3\n",
        ")\n",
        "\n",
        "dt_rs.fit(X_train_BOW, y_train)"
      ]
    },
    {
      "cell_type": "code",
      "execution_count": null,
      "metadata": {
        "colab": {
          "base_uri": "https://localhost:8080/"
        },
        "id": "fx02y0gmqhS6",
        "outputId": "6cec3803-a2bc-4333-fa64-c9812cf3276e"
      },
      "outputs": [
        {
          "name": "stdout",
          "output_type": "stream",
          "text": [
            "Best parameters set found on train set:\n",
            "{'max_depth': 5, 'criterion': 'gini'}\n",
            "DecisionTreeClassifier(max_depth=5)\n",
            "\n",
            "Score on Test Data:  0.8534524292524597\n"
          ]
        }
      ],
      "source": [
        "print(\"Best parameters set found on train set:\")\n",
        "print(dt_rs.best_params_)\n",
        "print(dt_rs.best_estimator_)\n",
        "print()\n",
        "\n",
        "print('Score on Test Data: ', dt_rs.score(X_test_BOW, y_test))"
      ]
    },
    {
      "cell_type": "markdown",
      "metadata": {
        "id": "B6Ex0Jt9lmeX"
      },
      "source": [
        "## 4. Random Forest "
      ]
    },
    {
      "cell_type": "markdown",
      "metadata": {
        "id": "30Y3MBJDhwPa"
      },
      "source": [
        "### Tunning Max_depth"
      ]
    },
    {
      "cell_type": "code",
      "execution_count": null,
      "metadata": {
        "colab": {
          "base_uri": "https://localhost:8080/"
        },
        "id": "aag74QnIL9KR",
        "outputId": "1bb81870-1b09-4cb0-9a3e-2d3d18e038d5"
      },
      "outputs": [
        {
          "name": "stdout",
          "output_type": "stream",
          "text": [
            "Fitting 5 folds for each of 4 candidates, totalling 20 fits\n"
          ]
        },
        {
          "data": {
            "text/plain": [
              "GridSearchCV(cv=5, estimator=RandomForestClassifier(),\n",
              "             param_grid=[{'max_depth': range(2, 20, 5)}],\n",
              "             return_train_score=True, scoring='accuracy', verbose=1)"
            ]
          },
          "execution_count": 33,
          "metadata": {},
          "output_type": "execute_result"
        }
      ],
      "source": [
        "from sklearn.model_selection import GridSearchCV\n",
        "from sklearn.ensemble import RandomForestClassifier\n",
        "\n",
        "hyper_parameters = [{'max_depth': range(2, 20, 5)}]\n",
        "\n",
        "rf = RandomForestClassifier()\n",
        "\n",
        "# fit tree on training data\n",
        "tunned_model_rf = GridSearchCV(\n",
        "                      estimator=rf, \n",
        "                      param_grid=hyper_parameters,\n",
        "                      cv=5, \n",
        "                      scoring=\"accuracy\",\n",
        "                      return_train_score=True,\n",
        "                      verbose=1\n",
        ")\n",
        "\n",
        "tunned_model_rf.fit(X_train_BOW, y_train)"
      ]
    },
    {
      "cell_type": "code",
      "execution_count": null,
      "metadata": {
        "colab": {
          "base_uri": "https://localhost:8080/"
        },
        "id": "gPl_EHTEMJCC",
        "outputId": "1f1f6894-c253-44ce-cd59-74672784a072"
      },
      "outputs": [
        {
          "name": "stdout",
          "output_type": "stream",
          "text": [
            "Best parameters set found on train set:\n",
            "{'max_depth': 17}\n",
            "RandomForestClassifier(max_depth=17)\n",
            "\n",
            "Score on Test Data:  0.8445582716299828\n"
          ]
        }
      ],
      "source": [
        "print(\"Best parameters set found on train set:\")\n",
        "print(tunned_model_rf.best_params_)\n",
        "print(tunned_model_rf.best_estimator_)\n",
        "print()\n",
        "\n",
        "print('Score on Test Data: ', tunned_model_rf.score(X_test_BOW, y_test))"
      ]
    },
    {
      "cell_type": "code",
      "execution_count": null,
      "metadata": {
        "colab": {
          "base_uri": "https://localhost:8080/",
          "height": 337
        },
        "id": "692d86llJ81K",
        "outputId": "981c1c43-3db3-479a-a737-6a2fcd132acc"
      },
      "outputs": [
        {
          "data": {
            "text/html": [
              "\n",
              "  <div id=\"df-b042dd62-99c6-47e9-a417-2c310b247429\">\n",
              "    <div class=\"colab-df-container\">\n",
              "      <div>\n",
              "<style scoped>\n",
              "    .dataframe tbody tr th:only-of-type {\n",
              "        vertical-align: middle;\n",
              "    }\n",
              "\n",
              "    .dataframe tbody tr th {\n",
              "        vertical-align: top;\n",
              "    }\n",
              "\n",
              "    .dataframe thead th {\n",
              "        text-align: right;\n",
              "    }\n",
              "</style>\n",
              "<table border=\"1\" class=\"dataframe\">\n",
              "  <thead>\n",
              "    <tr style=\"text-align: right;\">\n",
              "      <th></th>\n",
              "      <th>mean_fit_time</th>\n",
              "      <th>std_fit_time</th>\n",
              "      <th>mean_score_time</th>\n",
              "      <th>std_score_time</th>\n",
              "      <th>param_max_depth</th>\n",
              "      <th>params</th>\n",
              "      <th>split0_test_score</th>\n",
              "      <th>split1_test_score</th>\n",
              "      <th>split2_test_score</th>\n",
              "      <th>split3_test_score</th>\n",
              "      <th>...</th>\n",
              "      <th>mean_test_score</th>\n",
              "      <th>std_test_score</th>\n",
              "      <th>rank_test_score</th>\n",
              "      <th>split0_train_score</th>\n",
              "      <th>split1_train_score</th>\n",
              "      <th>split2_train_score</th>\n",
              "      <th>split3_train_score</th>\n",
              "      <th>split4_train_score</th>\n",
              "      <th>mean_train_score</th>\n",
              "      <th>std_train_score</th>\n",
              "    </tr>\n",
              "  </thead>\n",
              "  <tbody>\n",
              "    <tr>\n",
              "      <th>0</th>\n",
              "      <td>10.216722</td>\n",
              "      <td>0.082440</td>\n",
              "      <td>1.154497</td>\n",
              "      <td>0.011558</td>\n",
              "      <td>2</td>\n",
              "      <td>{'max_depth': 2}</td>\n",
              "      <td>0.844051</td>\n",
              "      <td>0.844051</td>\n",
              "      <td>0.844051</td>\n",
              "      <td>0.844051</td>\n",
              "      <td>...</td>\n",
              "      <td>0.844051</td>\n",
              "      <td>8.473970e-07</td>\n",
              "      <td>4</td>\n",
              "      <td>0.844051</td>\n",
              "      <td>0.844051</td>\n",
              "      <td>0.844051</td>\n",
              "      <td>0.844051</td>\n",
              "      <td>0.844051</td>\n",
              "      <td>0.844051</td>\n",
              "      <td>2.118471e-07</td>\n",
              "    </tr>\n",
              "    <tr>\n",
              "      <th>1</th>\n",
              "      <td>29.571218</td>\n",
              "      <td>0.365427</td>\n",
              "      <td>1.210476</td>\n",
              "      <td>0.021165</td>\n",
              "      <td>7</td>\n",
              "      <td>{'max_depth': 7}</td>\n",
              "      <td>0.844296</td>\n",
              "      <td>0.844432</td>\n",
              "      <td>0.844473</td>\n",
              "      <td>0.844391</td>\n",
              "      <td>...</td>\n",
              "      <td>0.844412</td>\n",
              "      <td>6.538888e-05</td>\n",
              "      <td>3</td>\n",
              "      <td>0.844441</td>\n",
              "      <td>0.844407</td>\n",
              "      <td>0.844397</td>\n",
              "      <td>0.844418</td>\n",
              "      <td>0.844398</td>\n",
              "      <td>0.844412</td>\n",
              "      <td>1.634723e-05</td>\n",
              "    </tr>\n",
              "    <tr>\n",
              "      <th>2</th>\n",
              "      <td>50.387302</td>\n",
              "      <td>0.406327</td>\n",
              "      <td>1.206343</td>\n",
              "      <td>0.014618</td>\n",
              "      <td>12</td>\n",
              "      <td>{'max_depth': 12}</td>\n",
              "      <td>0.844310</td>\n",
              "      <td>0.844445</td>\n",
              "      <td>0.844500</td>\n",
              "      <td>0.844405</td>\n",
              "      <td>...</td>\n",
              "      <td>0.844431</td>\n",
              "      <td>7.044629e-05</td>\n",
              "      <td>2</td>\n",
              "      <td>0.844513</td>\n",
              "      <td>0.844452</td>\n",
              "      <td>0.844438</td>\n",
              "      <td>0.844438</td>\n",
              "      <td>0.844456</td>\n",
              "      <td>0.844459</td>\n",
              "      <td>2.769215e-05</td>\n",
              "    </tr>\n",
              "    <tr>\n",
              "      <th>3</th>\n",
              "      <td>73.637005</td>\n",
              "      <td>0.432396</td>\n",
              "      <td>1.331809</td>\n",
              "      <td>0.007301</td>\n",
              "      <td>17</td>\n",
              "      <td>{'max_depth': 17}</td>\n",
              "      <td>0.844595</td>\n",
              "      <td>0.844663</td>\n",
              "      <td>0.844744</td>\n",
              "      <td>0.844785</td>\n",
              "      <td>...</td>\n",
              "      <td>0.844708</td>\n",
              "      <td>6.982461e-05</td>\n",
              "      <td>1</td>\n",
              "      <td>0.844849</td>\n",
              "      <td>0.844829</td>\n",
              "      <td>0.844852</td>\n",
              "      <td>0.844910</td>\n",
              "      <td>0.844839</td>\n",
              "      <td>0.844856</td>\n",
              "      <td>2.835158e-05</td>\n",
              "    </tr>\n",
              "  </tbody>\n",
              "</table>\n",
              "<p>4 rows × 21 columns</p>\n",
              "</div>\n",
              "      <button class=\"colab-df-convert\" onclick=\"convertToInteractive('df-b042dd62-99c6-47e9-a417-2c310b247429')\"\n",
              "              title=\"Convert this dataframe to an interactive table.\"\n",
              "              style=\"display:none;\">\n",
              "        \n",
              "  <svg xmlns=\"http://www.w3.org/2000/svg\" height=\"24px\"viewBox=\"0 0 24 24\"\n",
              "       width=\"24px\">\n",
              "    <path d=\"M0 0h24v24H0V0z\" fill=\"none\"/>\n",
              "    <path d=\"M18.56 5.44l.94 2.06.94-2.06 2.06-.94-2.06-.94-.94-2.06-.94 2.06-2.06.94zm-11 1L8.5 8.5l.94-2.06 2.06-.94-2.06-.94L8.5 2.5l-.94 2.06-2.06.94zm10 10l.94 2.06.94-2.06 2.06-.94-2.06-.94-.94-2.06-.94 2.06-2.06.94z\"/><path d=\"M17.41 7.96l-1.37-1.37c-.4-.4-.92-.59-1.43-.59-.52 0-1.04.2-1.43.59L10.3 9.45l-7.72 7.72c-.78.78-.78 2.05 0 2.83L4 21.41c.39.39.9.59 1.41.59.51 0 1.02-.2 1.41-.59l7.78-7.78 2.81-2.81c.8-.78.8-2.07 0-2.86zM5.41 20L4 18.59l7.72-7.72 1.47 1.35L5.41 20z\"/>\n",
              "  </svg>\n",
              "      </button>\n",
              "      \n",
              "  <style>\n",
              "    .colab-df-container {\n",
              "      display:flex;\n",
              "      flex-wrap:wrap;\n",
              "      gap: 12px;\n",
              "    }\n",
              "\n",
              "    .colab-df-convert {\n",
              "      background-color: #E8F0FE;\n",
              "      border: none;\n",
              "      border-radius: 50%;\n",
              "      cursor: pointer;\n",
              "      display: none;\n",
              "      fill: #1967D2;\n",
              "      height: 32px;\n",
              "      padding: 0 0 0 0;\n",
              "      width: 32px;\n",
              "    }\n",
              "\n",
              "    .colab-df-convert:hover {\n",
              "      background-color: #E2EBFA;\n",
              "      box-shadow: 0px 1px 2px rgba(60, 64, 67, 0.3), 0px 1px 3px 1px rgba(60, 64, 67, 0.15);\n",
              "      fill: #174EA6;\n",
              "    }\n",
              "\n",
              "    [theme=dark] .colab-df-convert {\n",
              "      background-color: #3B4455;\n",
              "      fill: #D2E3FC;\n",
              "    }\n",
              "\n",
              "    [theme=dark] .colab-df-convert:hover {\n",
              "      background-color: #434B5C;\n",
              "      box-shadow: 0px 1px 3px 1px rgba(0, 0, 0, 0.15);\n",
              "      filter: drop-shadow(0px 1px 2px rgba(0, 0, 0, 0.3));\n",
              "      fill: #FFFFFF;\n",
              "    }\n",
              "  </style>\n",
              "\n",
              "      <script>\n",
              "        const buttonEl =\n",
              "          document.querySelector('#df-b042dd62-99c6-47e9-a417-2c310b247429 button.colab-df-convert');\n",
              "        buttonEl.style.display =\n",
              "          google.colab.kernel.accessAllowed ? 'block' : 'none';\n",
              "\n",
              "        async function convertToInteractive(key) {\n",
              "          const element = document.querySelector('#df-b042dd62-99c6-47e9-a417-2c310b247429');\n",
              "          const dataTable =\n",
              "            await google.colab.kernel.invokeFunction('convertToInteractive',\n",
              "                                                     [key], {});\n",
              "          if (!dataTable) return;\n",
              "\n",
              "          const docLinkHtml = 'Like what you see? Visit the ' +\n",
              "            '<a target=\"_blank\" href=https://colab.research.google.com/notebooks/data_table.ipynb>data table notebook</a>'\n",
              "            + ' to learn more about interactive tables.';\n",
              "          element.innerHTML = '';\n",
              "          dataTable['output_type'] = 'display_data';\n",
              "          await google.colab.output.renderOutput(dataTable, element);\n",
              "          const docLink = document.createElement('div');\n",
              "          docLink.innerHTML = docLinkHtml;\n",
              "          element.appendChild(docLink);\n",
              "        }\n",
              "      </script>\n",
              "    </div>\n",
              "  </div>\n",
              "  "
            ],
            "text/plain": [
              "   mean_fit_time  std_fit_time  mean_score_time  std_score_time  \\\n",
              "0      10.216722      0.082440         1.154497        0.011558   \n",
              "1      29.571218      0.365427         1.210476        0.021165   \n",
              "2      50.387302      0.406327         1.206343        0.014618   \n",
              "3      73.637005      0.432396         1.331809        0.007301   \n",
              "\n",
              "  param_max_depth             params  split0_test_score  split1_test_score  \\\n",
              "0               2   {'max_depth': 2}           0.844051           0.844051   \n",
              "1               7   {'max_depth': 7}           0.844296           0.844432   \n",
              "2              12  {'max_depth': 12}           0.844310           0.844445   \n",
              "3              17  {'max_depth': 17}           0.844595           0.844663   \n",
              "\n",
              "   split2_test_score  split3_test_score  ...  mean_test_score  std_test_score  \\\n",
              "0           0.844051           0.844051  ...         0.844051    8.473970e-07   \n",
              "1           0.844473           0.844391  ...         0.844412    6.538888e-05   \n",
              "2           0.844500           0.844405  ...         0.844431    7.044629e-05   \n",
              "3           0.844744           0.844785  ...         0.844708    6.982461e-05   \n",
              "\n",
              "   rank_test_score  split0_train_score  split1_train_score  \\\n",
              "0                4            0.844051            0.844051   \n",
              "1                3            0.844441            0.844407   \n",
              "2                2            0.844513            0.844452   \n",
              "3                1            0.844849            0.844829   \n",
              "\n",
              "   split2_train_score  split3_train_score  split4_train_score  \\\n",
              "0            0.844051            0.844051            0.844051   \n",
              "1            0.844397            0.844418            0.844398   \n",
              "2            0.844438            0.844438            0.844456   \n",
              "3            0.844852            0.844910            0.844839   \n",
              "\n",
              "   mean_train_score  std_train_score  \n",
              "0          0.844051     2.118471e-07  \n",
              "1          0.844412     1.634723e-05  \n",
              "2          0.844459     2.769215e-05  \n",
              "3          0.844856     2.835158e-05  \n",
              "\n",
              "[4 rows x 21 columns]"
            ]
          },
          "execution_count": 36,
          "metadata": {},
          "output_type": "execute_result"
        }
      ],
      "source": [
        "cv_results = pd.DataFrame(tunned_model_rf.cv_results_)\n",
        "\n",
        "cv_results.head()"
      ]
    },
    {
      "cell_type": "code",
      "execution_count": null,
      "metadata": {
        "colab": {
          "base_uri": "https://localhost:8080/",
          "height": 298
        },
        "id": "ZFq2Mb3JKIW7",
        "outputId": "b7b3332f-1251-4b76-cb0f-6de2183fa05a"
      },
      "outputs": [
        {
          "data": {
            "text/plain": [
              "<matplotlib.legend.Legend at 0x7fb54fa52650>"
            ]
          },
          "execution_count": 37,
          "metadata": {},
          "output_type": "execute_result"
        },
        {
          "data": {
            "image/png": "[encoded data removed]",
            "text/plain": [
              "<Figure size 432x288 with 1 Axes>"
            ]
          },
          "metadata": {},
          "output_type": "display_data"
        }
      ],
      "source": [
        "plt.plot(cv_results['param_max_depth'], cv_results['mean_train_score'])\n",
        "plt.plot(cv_results['param_max_depth'], cv_results['mean_test_score'])\n",
        "plt.xlabel('max_depth')\n",
        "plt.ylabel('Accuracy')\n",
        "plt.legend(['train accuracy', 'test accuracy'], loc='upper left')"
      ]
    },
    {
      "cell_type": "markdown",
      "metadata": {
        "id": "Lq5ccrEWh1TH"
      },
      "source": [
        "### Tunning n_estimator"
      ]
    },
    {
      "cell_type": "code",
      "execution_count": null,
      "metadata": {
        "colab": {
          "base_uri": "https://localhost:8080/"
        },
        "id": "nLJj7J9vKNq6",
        "outputId": "90cc6a0c-554c-4dd5-c0af-16cd53834fa3"
      },
      "outputs": [
        {
          "name": "stdout",
          "output_type": "stream",
          "text": [
            "Fitting 5 folds for each of 5 candidates, totalling 25 fits\n"
          ]
        },
        {
          "data": {
            "text/plain": [
              "GridSearchCV(cv=5, estimator=RandomForestClassifier(), n_jobs=-1,\n",
              "             param_grid=[{'n_estimators': [3, 5, 10, 50, 100]}],\n",
              "             return_train_score=True, scoring='accuracy', verbose=3)"
            ]
          },
          "execution_count": 48,
          "metadata": {},
          "output_type": "execute_result"
        }
      ],
      "source": [
        "from sklearn.model_selection import GridSearchCV\n",
        "from sklearn.ensemble import RandomForestClassifier\n",
        "\n",
        "n_folds = 5\n",
        "\n",
        "hyper_parameters = [{'n_estimators': [3, 5, 10, 50, 100]}]\n",
        "\n",
        "rf = RandomForestClassifier()\n",
        "\n",
        "# fit tree on training data\n",
        "tunned_model_rf = GridSearchCV(\n",
        "                      estimator=rf, \n",
        "                      param_grid=hyper_parameters,\n",
        "                      cv=n_folds, \n",
        "                      scoring=\"accuracy\",\n",
        "                      return_train_score=True,\n",
        "                      verbose=3,\n",
        "                      n_jobs=-1\n",
        ")\n",
        "\n",
        "tunned_model_rf.fit(X_train_BOW, y_train)"
      ]
    },
    {
      "cell_type": "code",
      "execution_count": null,
      "metadata": {
        "colab": {
          "base_uri": "https://localhost:8080/"
        },
        "id": "8YEpf2CWKN3i",
        "outputId": "48ba8a85-996c-44bf-f4aa-13da6c16f7e3"
      },
      "outputs": [
        {
          "name": "stdout",
          "output_type": "stream",
          "text": [
            "Best parameters set found on train set\n",
            "{'n_estimators': 50}\n",
            "RandomForestClassifier(n_estimators=50)\n",
            "\n",
            "Score on Test Data:  0.9275091287148798\n"
          ]
        }
      ],
      "source": [
        "print(\"Best parameters set found on train set\")\n",
        "print(tunned_model_rf.best_params_)\n",
        "print(tunned_model_rf.best_estimator_)\n",
        "print()\n",
        "\n",
        "print('Score on Test Data: ', tunned_model_rf.score(X_test_BOW, y_test))"
      ]
    },
    {
      "cell_type": "code",
      "execution_count": null,
      "metadata": {
        "colab": {
          "base_uri": "https://localhost:8080/",
          "height": 386
        },
        "id": "OtYZ00BgKOBz",
        "outputId": "46d231d9-82ee-4f3e-adf7-59f0617e32a7"
      },
      "outputs": [
        {
          "data": {
            "text/html": [
              "\n",
              "  <div id=\"df-82f5b5b8-ca5c-4b69-b75f-71a54ea1f4dc\">\n",
              "    <div class=\"colab-df-container\">\n",
              "      <div>\n",
              "<style scoped>\n",
              "    .dataframe tbody tr th:only-of-type {\n",
              "        vertical-align: middle;\n",
              "    }\n",
              "\n",
              "    .dataframe tbody tr th {\n",
              "        vertical-align: top;\n",
              "    }\n",
              "\n",
              "    .dataframe thead th {\n",
              "        text-align: right;\n",
              "    }\n",
              "</style>\n",
              "<table border=\"1\" class=\"dataframe\">\n",
              "  <thead>\n",
              "    <tr style=\"text-align: right;\">\n",
              "      <th></th>\n",
              "      <th>mean_fit_time</th>\n",
              "      <th>std_fit_time</th>\n",
              "      <th>mean_score_time</th>\n",
              "      <th>std_score_time</th>\n",
              "      <th>param_n_estimators</th>\n",
              "      <th>params</th>\n",
              "      <th>split0_test_score</th>\n",
              "      <th>split1_test_score</th>\n",
              "      <th>split2_test_score</th>\n",
              "      <th>split3_test_score</th>\n",
              "      <th>...</th>\n",
              "      <th>mean_test_score</th>\n",
              "      <th>std_test_score</th>\n",
              "      <th>rank_test_score</th>\n",
              "      <th>split0_train_score</th>\n",
              "      <th>split1_train_score</th>\n",
              "      <th>split2_train_score</th>\n",
              "      <th>split3_train_score</th>\n",
              "      <th>split4_train_score</th>\n",
              "      <th>mean_train_score</th>\n",
              "      <th>std_train_score</th>\n",
              "    </tr>\n",
              "  </thead>\n",
              "  <tbody>\n",
              "    <tr>\n",
              "      <th>0</th>\n",
              "      <td>98.738747</td>\n",
              "      <td>12.082395</td>\n",
              "      <td>0.413685</td>\n",
              "      <td>0.018084</td>\n",
              "      <td>3</td>\n",
              "      <td>{'n_estimators': 3}</td>\n",
              "      <td>0.902899</td>\n",
              "      <td>0.903211</td>\n",
              "      <td>0.904420</td>\n",
              "      <td>0.902002</td>\n",
              "      <td>...</td>\n",
              "      <td>0.903341</td>\n",
              "      <td>0.000879</td>\n",
              "      <td>5</td>\n",
              "      <td>0.982018</td>\n",
              "      <td>0.981797</td>\n",
              "      <td>0.981793</td>\n",
              "      <td>0.981563</td>\n",
              "      <td>0.981172</td>\n",
              "      <td>0.981669</td>\n",
              "      <td>0.000287</td>\n",
              "    </tr>\n",
              "    <tr>\n",
              "      <th>1</th>\n",
              "      <td>173.822577</td>\n",
              "      <td>10.654308</td>\n",
              "      <td>0.578067</td>\n",
              "      <td>0.019075</td>\n",
              "      <td>5</td>\n",
              "      <td>{'n_estimators': 5}</td>\n",
              "      <td>0.914079</td>\n",
              "      <td>0.913834</td>\n",
              "      <td>0.914323</td>\n",
              "      <td>0.915641</td>\n",
              "      <td>...</td>\n",
              "      <td>0.914521</td>\n",
              "      <td>0.000633</td>\n",
              "      <td>4</td>\n",
              "      <td>0.989927</td>\n",
              "      <td>0.989564</td>\n",
              "      <td>0.989829</td>\n",
              "      <td>0.989479</td>\n",
              "      <td>0.989686</td>\n",
              "      <td>0.989697</td>\n",
              "      <td>0.000165</td>\n",
              "    </tr>\n",
              "    <tr>\n",
              "      <th>2</th>\n",
              "      <td>289.898276</td>\n",
              "      <td>9.252179</td>\n",
              "      <td>1.010059</td>\n",
              "      <td>0.020841</td>\n",
              "      <td>10</td>\n",
              "      <td>{'n_estimators': 10}</td>\n",
              "      <td>0.922338</td>\n",
              "      <td>0.922501</td>\n",
              "      <td>0.923900</td>\n",
              "      <td>0.926604</td>\n",
              "      <td>...</td>\n",
              "      <td>0.923800</td>\n",
              "      <td>0.001531</td>\n",
              "      <td>2</td>\n",
              "      <td>0.997772</td>\n",
              "      <td>0.997823</td>\n",
              "      <td>0.997718</td>\n",
              "      <td>0.997796</td>\n",
              "      <td>0.997816</td>\n",
              "      <td>0.997785</td>\n",
              "      <td>0.000038</td>\n",
              "    </tr>\n",
              "    <tr>\n",
              "      <th>3</th>\n",
              "      <td>1285.707316</td>\n",
              "      <td>9.616004</td>\n",
              "      <td>4.520917</td>\n",
              "      <td>0.068362</td>\n",
              "      <td>50</td>\n",
              "      <td>{'n_estimators': 50}</td>\n",
              "      <td>0.922596</td>\n",
              "      <td>0.923955</td>\n",
              "      <td>0.924566</td>\n",
              "      <td>0.925340</td>\n",
              "      <td>...</td>\n",
              "      <td>0.924169</td>\n",
              "      <td>0.000905</td>\n",
              "      <td>1</td>\n",
              "      <td>0.999925</td>\n",
              "      <td>0.999939</td>\n",
              "      <td>0.999939</td>\n",
              "      <td>0.999915</td>\n",
              "      <td>0.999946</td>\n",
              "      <td>0.999933</td>\n",
              "      <td>0.000011</td>\n",
              "    </tr>\n",
              "    <tr>\n",
              "      <th>4</th>\n",
              "      <td>2407.058060</td>\n",
              "      <td>23.583533</td>\n",
              "      <td>7.971450</td>\n",
              "      <td>0.115164</td>\n",
              "      <td>100</td>\n",
              "      <td>{'n_estimators': 100}</td>\n",
              "      <td>0.921713</td>\n",
              "      <td>0.923072</td>\n",
              "      <td>0.922800</td>\n",
              "      <td>0.923900</td>\n",
              "      <td>...</td>\n",
              "      <td>0.922895</td>\n",
              "      <td>0.000701</td>\n",
              "      <td>3</td>\n",
              "      <td>0.999980</td>\n",
              "      <td>0.999983</td>\n",
              "      <td>0.999983</td>\n",
              "      <td>0.999976</td>\n",
              "      <td>0.999980</td>\n",
              "      <td>0.999980</td>\n",
              "      <td>0.000003</td>\n",
              "    </tr>\n",
              "  </tbody>\n",
              "</table>\n",
              "<p>5 rows × 21 columns</p>\n",
              "</div>\n",
              "      <button class=\"colab-df-convert\" onclick=\"convertToInteractive('df-82f5b5b8-ca5c-4b69-b75f-71a54ea1f4dc')\"\n",
              "              title=\"Convert this dataframe to an interactive table.\"\n",
              "              style=\"display:none;\">\n",
              "        \n",
              "  <svg xmlns=\"http://www.w3.org/2000/svg\" height=\"24px\"viewBox=\"0 0 24 24\"\n",
              "       width=\"24px\">\n",
              "    <path d=\"M0 0h24v24H0V0z\" fill=\"none\"/>\n",
              "    <path d=\"M18.56 5.44l.94 2.06.94-2.06 2.06-.94-2.06-.94-.94-2.06-.94 2.06-2.06.94zm-11 1L8.5 8.5l.94-2.06 2.06-.94-2.06-.94L8.5 2.5l-.94 2.06-2.06.94zm10 10l.94 2.06.94-2.06 2.06-.94-2.06-.94-.94-2.06-.94 2.06-2.06.94z\"/><path d=\"M17.41 7.96l-1.37-1.37c-.4-.4-.92-.59-1.43-.59-.52 0-1.04.2-1.43.59L10.3 9.45l-7.72 7.72c-.78.78-.78 2.05 0 2.83L4 21.41c.39.39.9.59 1.41.59.51 0 1.02-.2 1.41-.59l7.78-7.78 2.81-2.81c.8-.78.8-2.07 0-2.86zM5.41 20L4 18.59l7.72-7.72 1.47 1.35L5.41 20z\"/>\n",
              "  </svg>\n",
              "      </button>\n",
              "      \n",
              "  <style>\n",
              "    .colab-df-container {\n",
              "      display:flex;\n",
              "      flex-wrap:wrap;\n",
              "      gap: 12px;\n",
              "    }\n",
              "\n",
              "    .colab-df-convert {\n",
              "      background-color: #E8F0FE;\n",
              "      border: none;\n",
              "      border-radius: 50%;\n",
              "      cursor: pointer;\n",
              "      display: none;\n",
              "      fill: #1967D2;\n",
              "      height: 32px;\n",
              "      padding: 0 0 0 0;\n",
              "      width: 32px;\n",
              "    }\n",
              "\n",
              "    .colab-df-convert:hover {\n",
              "      background-color: #E2EBFA;\n",
              "      box-shadow: 0px 1px 2px rgba(60, 64, 67, 0.3), 0px 1px 3px 1px rgba(60, 64, 67, 0.15);\n",
              "      fill: #174EA6;\n",
              "    }\n",
              "\n",
              "    [theme=dark] .colab-df-convert {\n",
              "      background-color: #3B4455;\n",
              "      fill: #D2E3FC;\n",
              "    }\n",
              "\n",
              "    [theme=dark] .colab-df-convert:hover {\n",
              "      background-color: #434B5C;\n",
              "      box-shadow: 0px 1px 3px 1px rgba(0, 0, 0, 0.15);\n",
              "      filter: drop-shadow(0px 1px 2px rgba(0, 0, 0, 0.3));\n",
              "      fill: #FFFFFF;\n",
              "    }\n",
              "  </style>\n",
              "\n",
              "      <script>\n",
              "        const buttonEl =\n",
              "          document.querySelector('#df-82f5b5b8-ca5c-4b69-b75f-71a54ea1f4dc button.colab-df-convert');\n",
              "        buttonEl.style.display =\n",
              "          google.colab.kernel.accessAllowed ? 'block' : 'none';\n",
              "\n",
              "        async function convertToInteractive(key) {\n",
              "          const element = document.querySelector('#df-82f5b5b8-ca5c-4b69-b75f-71a54ea1f4dc');\n",
              "          const dataTable =\n",
              "            await google.colab.kernel.invokeFunction('convertToInteractive',\n",
              "                                                     [key], {});\n",
              "          if (!dataTable) return;\n",
              "\n",
              "          const docLinkHtml = 'Like what you see? Visit the ' +\n",
              "            '<a target=\"_blank\" href=https://colab.research.google.com/notebooks/data_table.ipynb>data table notebook</a>'\n",
              "            + ' to learn more about interactive tables.';\n",
              "          element.innerHTML = '';\n",
              "          dataTable['output_type'] = 'display_data';\n",
              "          await google.colab.output.renderOutput(dataTable, element);\n",
              "          const docLink = document.createElement('div');\n",
              "          docLink.innerHTML = docLinkHtml;\n",
              "          element.appendChild(docLink);\n",
              "        }\n",
              "      </script>\n",
              "    </div>\n",
              "  </div>\n",
              "  "
            ],
            "text/plain": [
              "   mean_fit_time  std_fit_time  mean_score_time  std_score_time  \\\n",
              "0      98.738747     12.082395         0.413685        0.018084   \n",
              "1     173.822577     10.654308         0.578067        0.019075   \n",
              "2     289.898276      9.252179         1.010059        0.020841   \n",
              "3    1285.707316      9.616004         4.520917        0.068362   \n",
              "4    2407.058060     23.583533         7.971450        0.115164   \n",
              "\n",
              "  param_n_estimators                 params  split0_test_score  \\\n",
              "0                  3    {'n_estimators': 3}           0.902899   \n",
              "1                  5    {'n_estimators': 5}           0.914079   \n",
              "2                 10   {'n_estimators': 10}           0.922338   \n",
              "3                 50   {'n_estimators': 50}           0.922596   \n",
              "4                100  {'n_estimators': 100}           0.921713   \n",
              "\n",
              "   split1_test_score  split2_test_score  split3_test_score  ...  \\\n",
              "0           0.903211           0.904420           0.902002  ...   \n",
              "1           0.913834           0.914323           0.915641  ...   \n",
              "2           0.922501           0.923900           0.926604  ...   \n",
              "3           0.923955           0.924566           0.925340  ...   \n",
              "4           0.923072           0.922800           0.923900  ...   \n",
              "\n",
              "   mean_test_score  std_test_score  rank_test_score  split0_train_score  \\\n",
              "0         0.903341        0.000879                5            0.982018   \n",
              "1         0.914521        0.000633                4            0.989927   \n",
              "2         0.923800        0.001531                2            0.997772   \n",
              "3         0.924169        0.000905                1            0.999925   \n",
              "4         0.922895        0.000701                3            0.999980   \n",
              "\n",
              "   split1_train_score  split2_train_score  split3_train_score  \\\n",
              "0            0.981797            0.981793            0.981563   \n",
              "1            0.989564            0.989829            0.989479   \n",
              "2            0.997823            0.997718            0.997796   \n",
              "3            0.999939            0.999939            0.999915   \n",
              "4            0.999983            0.999983            0.999976   \n",
              "\n",
              "   split4_train_score  mean_train_score  std_train_score  \n",
              "0            0.981172          0.981669         0.000287  \n",
              "1            0.989686          0.989697         0.000165  \n",
              "2            0.997816          0.997785         0.000038  \n",
              "3            0.999946          0.999933         0.000011  \n",
              "4            0.999980          0.999980         0.000003  \n",
              "\n",
              "[5 rows x 21 columns]"
            ]
          },
          "execution_count": 50,
          "metadata": {},
          "output_type": "execute_result"
        }
      ],
      "source": [
        "cv_results = pd.DataFrame(tunned_model_rf.cv_results_)\n",
        "\n",
        "cv_results.head()"
      ]
    },
    {
      "cell_type": "code",
      "execution_count": null,
      "metadata": {
        "colab": {
          "base_uri": "https://localhost:8080/",
          "height": 298
        },
        "id": "wXqQB4r3KOLs",
        "outputId": "e8607fa8-d454-4225-a09b-df462f7061a9"
      },
      "outputs": [
        {
          "data": {
            "text/plain": [
              "<matplotlib.legend.Legend at 0x7f441caa0a90>"
            ]
          },
          "execution_count": 51,
          "metadata": {},
          "output_type": "execute_result"
        },
        {
          "data": {
            "image/png": "[encoded data removed]",
            "text/plain": [
              "<Figure size 432x288 with 1 Axes>"
            ]
          },
          "metadata": {},
          "output_type": "display_data"
        }
      ],
      "source": [
        "plt.plot(cv_results['param_n_estimators'], cv_results['mean_train_score'])\n",
        "plt.plot(cv_results['param_n_estimators'], cv_results['mean_test_score'])\n",
        "plt.xlabel('n_estimators')\n",
        "plt.ylabel('Accuracy')\n",
        "plt.legend(['train accuracy', 'test accuracy'], loc='upper left')"
      ]
    },
    {
      "cell_type": "markdown",
      "metadata": {
        "id": "m_c1BulgdBP0"
      },
      "source": [
        "### Using the above best parameters (max_depth, n_estimator) to build a best fit model."
      ]
    },
    {
      "cell_type": "code",
      "execution_count": null,
      "metadata": {
        "colab": {
          "base_uri": "https://localhost:8080/"
        },
        "id": "UHk9l0BuKOV5",
        "outputId": "e8378134-4456-47db-8b90-6f6c0bd4c40f"
      },
      "outputs": [
        {
          "data": {
            "text/plain": [
              "RandomForestClassifier(max_depth=17, n_estimators=50)"
            ]
          },
          "execution_count": 52,
          "metadata": {},
          "output_type": "execute_result"
        }
      ],
      "source": [
        "from sklearn.ensemble import RandomForestClassifier\n",
        "\n",
        "model_rf = RandomForestClassifier(max_depth=17,\n",
        "                                  n_estimators=50)\n",
        "\n",
        "model_rf.fit(X_train_BOW, y_train)"
      ]
    },
    {
      "cell_type": "code",
      "execution_count": null,
      "metadata": {
        "id": "uUv2aJPsKcPD"
      },
      "outputs": [],
      "source": [
        "predictions = model_rf.predict(X_test_BOW)"
      ]
    },
    {
      "cell_type": "code",
      "execution_count": null,
      "metadata": {
        "colab": {
          "base_uri": "https://localhost:8080/"
        },
        "id": "AqQq3XRCKcXM",
        "outputId": "81998ab7-2053-45cb-81e8-841837786934"
      },
      "outputs": [
        {
          "name": "stdout",
          "output_type": "stream",
          "text": [
            "********** Accuracy **********\n",
            "0.8446597017953139\n",
            "\n",
            "********** Conf Matrix **********\n",
            "[[   133  24504]\n",
            " [     0 133107]]\n",
            "\n",
            "********** Class Report **********\n",
            "              precision    recall  f1-score   support\n",
            "\n",
            "           0       1.00      0.01      0.01     24637\n",
            "           1       0.84      1.00      0.92    133107\n",
            "\n",
            "    accuracy                           0.84    157744\n",
            "   macro avg       0.92      0.50      0.46    157744\n",
            "weighted avg       0.87      0.84      0.77    157744\n",
            "\n",
            "\n"
          ]
        }
      ],
      "source": [
        "from sklearn.metrics import accuracy_score, classification_report, confusion_matrix\n",
        "\n",
        "print('*'*10, 'Accuracy', '*'*10)\n",
        "print(accuracy_score(y_test,predictions))\n",
        "print()\n",
        "\n",
        "print('*'*10, 'Conf Matrix', '*'*10)\n",
        "print(confusion_matrix(y_test,predictions))\n",
        "print()\n",
        "\n",
        "print('*'*10, 'Class Report', '*'*10)\n",
        "print(classification_report(y_test,predictions))\n",
        "print()"
      ]
    }
  ],
  "metadata": {
    "accelerator": "TPU",
    "colab": {
      "collapsed_sections": [
        "j7EXmMXv82BM",
        "ny7pasVsGcX6",
        "kYSjztZNXs1H",
        "7sB-StJHGnY8",
        "YZ4oNTU97qhW",
        "a3hY4PkCUWmL",
        "uiqn0frvlTcR",
        "9BmsHCKz47ya",
        "0Ry16R1LlalC",
        "B6Ex0Jt9lmeX"
      ],
      "machine_shape": "hm",
      "provenance": []
    },
    "gpuClass": "standard",
    "kernelspec": {
      "display_name": "Python 3",
      "name": "python3"
    },
    "language_info": {
      "name": "python"
    }
  },
  "nbformat": 4,
  "nbformat_minor": 0
}