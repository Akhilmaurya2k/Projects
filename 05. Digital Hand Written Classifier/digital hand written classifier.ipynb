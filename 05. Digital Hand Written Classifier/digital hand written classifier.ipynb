{
 "cells": [
  {
   "cell_type": "code",
   "execution_count": 1,
   "id": "eb777d86",
   "metadata": {},
   "outputs": [],
   "source": [
    "import numpy as np\n",
    "import pandas as pd\n",
    "\n",
    "import matplotlib.pyplot as plt\n",
    "import matplotlib.image as image\n",
    "import seaborn as sns\n",
    "\n",
    "import warnings\n",
    "warnings.filterwarnings('ignore')\n",
    "\n",
    "import PIL\n",
    "import os\n",
    "from PIL import Image"
   ]
  },
  {
   "cell_type": "code",
   "execution_count": 2,
   "id": "3f898a04",
   "metadata": {},
   "outputs": [
    {
     "name": "stdout",
     "output_type": "stream",
     "text": [
      "gray image shape: <PIL.Image.Image image mode=L size=28x28 at 0x1326926B880>\n",
      "photos_array_size 784\n"
     ]
    }
   ],
   "source": [
    "f0 = []\n",
    "for i in range(1,4131):\n",
    "    photos = Image.open('data/mnist_data/0/img_{}.png'.format(i))\n",
    "    photos_gray_0 = photos.convert(\"L\") # converted to gray scale\n",
    "    photos_arr_0 = np.array(photos_gray_0) # matrix to numpy array\n",
    "    f0.append(photos_arr_0.ravel()) #numpy array to df ( flatten)\n",
    "print(\"gray image shape:\",photos_gray_0)\n",
    "print(\"photos_array_size\",photos_arr_0.size) "
   ]
  },
  {
   "cell_type": "code",
   "execution_count": 3,
   "id": "2631e1e4",
   "metadata": {},
   "outputs": [
    {
     "name": "stdout",
     "output_type": "stream",
     "text": [
      "gray image shape: <PIL.Image.Image image mode=L size=28x28 at 0x1326932F880>\n",
      "photos_array_size 784\n"
     ]
    }
   ],
   "source": [
    "f1 = []\n",
    "for i in range(0,4683):\n",
    "    photos = Image.open('data/mnist_data/1/img_{}.png'.format(i))\n",
    "#     photos = Image.open(r\"C:\\Users\\dell\\Desktop\\Folders\\Innomatics\\Machine learning\\mnist_data\\0\\img_{}.png\".format(i))\n",
    "    photos_gray_0 = photos.convert(\"L\") #converted to gray scale\n",
    "    photos_arr_0 = np.array(photos_gray_0) #matrix to numpy array\n",
    "    f1.append(photos_arr_0.ravel()) #numpy array to df ( flatten)\n",
    "print(\"gray image shape:\",photos_gray_0)\n",
    "print(\"photos_array_size\",photos_arr_0.size) "
   ]
  },
  {
   "cell_type": "code",
   "execution_count": 4,
   "id": "b559b914",
   "metadata": {},
   "outputs": [
    {
     "name": "stdout",
     "output_type": "stream",
     "text": [
      "gray image shape: <PIL.Image.Image image mode=L size=28x28 at 0x1326932F850>\n",
      "photos_array_size 784\n"
     ]
    }
   ],
   "source": [
    "f2 = []\n",
    "for i in range(0,4176):\n",
    "    photos = Image.open('data/mnist_data/2/img_{}.png'.format(i))\n",
    "#     photos = Image.open(r\"C:\\Users\\dell\\Desktop\\Folders\\Innomatics\\Machine learning\\mnist_data\\0\\img_{}.png\".format(i))\n",
    "    photos_gray_0 = photos.convert(\"L\") #converted to gray scale\n",
    "    photos_arr_0 = np.array(photos_gray_0) #matrix to numpy array\n",
    "    f2.append(photos_arr_0.ravel()) #numpy array to df ( flatten)\n",
    "print(\"gray image shape:\",photos_gray_0)\n",
    "print(\"photos_array_size\",photos_arr_0.size) "
   ]
  },
  {
   "cell_type": "code",
   "execution_count": 5,
   "id": "67681cc5",
   "metadata": {},
   "outputs": [
    {
     "name": "stdout",
     "output_type": "stream",
     "text": [
      "gray image shape: <PIL.Image.Image image mode=L size=28x28 at 0x1326932F9A0>\n",
      "photos_array_size 784\n"
     ]
    }
   ],
   "source": [
    "f3 = []\n",
    "for i in range(0,4350):\n",
    "    photos = Image.open('data/mnist_data/3/img_{}.png'.format(i))\n",
    "#     photos = Image.open(r\"C:\\Users\\dell\\Desktop\\Folders\\Innomatics\\Machine learning\\mnist_data\\0\\img_{}.png\".format(i))\n",
    "    photos_gray_0 = photos.convert(\"L\") #converted to gray scale\n",
    "    photos_arr_0 = np.array(photos_gray_0) #matrix to numpy array\n",
    "    f3.append(photos_arr_0.ravel()) #numpy array to df ( flatten)\n",
    "print(\"gray image shape:\",photos_gray_0)\n",
    "print(\"photos_array_size\",photos_arr_0.size) "
   ]
  },
  {
   "cell_type": "code",
   "execution_count": 6,
   "id": "bdf49205",
   "metadata": {},
   "outputs": [
    {
     "name": "stdout",
     "output_type": "stream",
     "text": [
      "gray image shape: <PIL.Image.Image image mode=L size=28x28 at 0x1326932F5E0>\n",
      "photos_array_size 784\n"
     ]
    }
   ],
   "source": [
    "f4 = []\n",
    "for i in range(0,4071):\n",
    "    photos = Image.open('data/mnist_data/4/img_{}.png'.format(i))\n",
    "#     photos = Image.open(r\"C:\\Users\\dell\\Desktop\\Folders\\Innomatics\\Machine learning\\mnist_data\\0\\img_{}.png\".format(i))\n",
    "    photos_gray_0 = photos.convert(\"L\") #converted to gray scale\n",
    "    photos_arr_0 = np.array(photos_gray_0) #matrix to numpy array\n",
    "    f4.append(photos_arr_0.ravel()) #numpy array to df ( flatten)\n",
    "print(\"gray image shape:\",photos_gray_0)\n",
    "print(\"photos_array_size\",photos_arr_0.size) "
   ]
  },
  {
   "cell_type": "code",
   "execution_count": 7,
   "id": "f8fbeee4",
   "metadata": {},
   "outputs": [
    {
     "name": "stdout",
     "output_type": "stream",
     "text": [
      "gray image shape: <PIL.Image.Image image mode=L size=28x28 at 0x1326932FAF0>\n",
      "photos_array_size 784\n"
     ]
    }
   ],
   "source": [
    "f5 = []\n",
    "for i in range(0,3794):\n",
    "    photos = Image.open('data/mnist_data/5/img_{}.png'.format(i))\n",
    "#     photos = Image.open(r\"C:\\Users\\dell\\Desktop\\Folders\\Innomatics\\Machine learning\\mnist_data\\0\\img_{}.png\".format(i))\n",
    "    photos_gray_0 = photos.convert(\"L\") #converted to gray scale\n",
    "    photos_arr_0 = np.array(photos_gray_0) #matrix to numpy array\n",
    "    f5.append(photos_arr_0.ravel()) #numpy array to df ( flatten)\n",
    "print(\"gray image shape:\",photos_gray_0)\n",
    "print(\"photos_array_size\",photos_arr_0.size) "
   ]
  },
  {
   "cell_type": "code",
   "execution_count": 8,
   "id": "ba4d9bb2",
   "metadata": {},
   "outputs": [
    {
     "name": "stdout",
     "output_type": "stream",
     "text": [
      "gray image shape: <PIL.Image.Image image mode=L size=28x28 at 0x1326A714520>\n",
      "photos_array_size 784\n"
     ]
    }
   ],
   "source": [
    "f6 = []\n",
    "for i in range(0,4136):\n",
    "    photos = Image.open('data/mnist_data/6/img_{}.png'.format(i))\n",
    "#     photos = Image.open(r\"C:\\Users\\dell\\Desktop\\Folders\\Innomatics\\Machine learning\\mnist_data\\0\\img_{}.png\".format(i))\n",
    "    photos_gray_0 = photos.convert(\"L\") # converted to gray scale (Matrix)\n",
    "    photos_arr_0 = np.array(photos_gray_0) # matrix to numpy array \n",
    "    f6.append(photos_arr_0.ravel()) # numpy array to flatten (2D to 1D)\n",
    "print(\"gray image shape:\",photos_gray_0)\n",
    "print(\"photos_array_size\",photos_arr_0.size) "
   ]
  },
  {
   "cell_type": "code",
   "execution_count": 10,
   "id": "159e5f1e",
   "metadata": {},
   "outputs": [
    {
     "name": "stdout",
     "output_type": "stream",
     "text": [
      "gray image shape: <PIL.Image.Image image mode=L size=28x28 at 0x1326A714E20>\n",
      "photos_array_size 784\n"
     ]
    }
   ],
   "source": [
    "f7 = []\n",
    "for i in range(0,4400):\n",
    "    photos = Image.open('data/mnist_data/7/img_{}.png'.format(i))\n",
    "#     photos = Image.open(r\"C:\\Users\\dell\\Desktop\\Folders\\Innomatics\\Machine learning\\mnist_data\\0\\img_{}.png\".format(i))\n",
    "    photos_gray_0 = photos.convert(\"L\") #converted to gray scale\n",
    "    photos_arr_0 = np.array(photos_gray_0) #matrix to numpy array\n",
    "    f7.append(photos_arr_0.ravel()) #numpy array to df ( flatten)\n",
    "print(\"gray image shape:\",photos_gray_0)\n",
    "print(\"photos_array_size\",photos_arr_0.size) "
   ]
  },
  {
   "cell_type": "code",
   "execution_count": 11,
   "id": "40f06348",
   "metadata": {},
   "outputs": [
    {
     "name": "stdout",
     "output_type": "stream",
     "text": [
      "gray image shape: <PIL.Image.Image image mode=L size=28x28 at 0x1326932F7F0>\n",
      "photos_array_size 784\n"
     ]
    }
   ],
   "source": [
    "f8 = []\n",
    "for i in range(0,4062):\n",
    "    photos = Image.open('data/mnist_data/8/img_{}.png'.format(i))\n",
    "#     photos = Image.open(r\"C:\\Users\\dell\\Desktop\\Folders\\Innomatics\\Machine learning\\mnist_data\\0\\img_{}.png\".format(i))\n",
    "    photos_gray_0 = photos.convert(\"L\") #converted to gray scale\n",
    "    photos_arr_0 = np.array(photos_gray_0) #matrix to numpy array\n",
    "    f8.append(photos_arr_0.ravel()) #numpy array to df ( flatten)\n",
    "print(\"gray image shape:\",photos_gray_0)\n",
    "print(\"photos_array_size\",photos_arr_0.size) "
   ]
  },
  {
   "cell_type": "code",
   "execution_count": 12,
   "id": "be0aeb93",
   "metadata": {},
   "outputs": [
    {
     "name": "stdout",
     "output_type": "stream",
     "text": [
      "gray image shape: <PIL.Image.Image image mode=L size=28x28 at 0x1326A714640>\n",
      "photos_array_size 784\n"
     ]
    }
   ],
   "source": [
    "f9 = []\n",
    "for i in range(0,4187):\n",
    "    photos = Image.open('data/mnist_data/9/img_{}.png'.format(i))\n",
    "    photos_gray_0 = photos.convert(\"L\") #converted to gray scale\n",
    "    photos_arr_0 = np.array(photos_gray_0) #matrix to numpy array\n",
    "    f9.append(photos_arr_0.ravel()) #numpy array to df ( flatten)\n",
    "print(\"gray image shape:\",photos_gray_0)\n",
    "print(\"photos_array_size\",photos_arr_0.size) "
   ]
  },
  {
   "cell_type": "code",
   "execution_count": 13,
   "id": "2e5082b8",
   "metadata": {},
   "outputs": [],
   "source": [
    "# Converting All list from f0 to f9 into respective dataframes\n",
    "\n",
    "df0 = pd.DataFrame(f0)\n",
    "df1 = pd.DataFrame(f1)\n",
    "df2 = pd.DataFrame(f2)\n",
    "df3 = pd.DataFrame(f3)\n",
    "df4 = pd.DataFrame(f4)\n",
    "df5 = pd.DataFrame(f5)\n",
    "df6 = pd.DataFrame(f6)\n",
    "df7 = pd.DataFrame(f7)\n",
    "df8 = pd.DataFrame(f8)\n",
    "df9 = pd.DataFrame(f9)"
   ]
  },
  {
   "cell_type": "code",
   "execution_count": 14,
   "id": "71a25ccd",
   "metadata": {},
   "outputs": [],
   "source": [
    "# Assigning the labels to their respective images  by creating a column\n",
    "\n",
    "df0[\"label\"]=0\n",
    "df1[\"label\"]=1\n",
    "df2[\"label\"]=2\n",
    "df3[\"label\"]=3\n",
    "df4[\"label\"]=4\n",
    "df5[\"label\"]=5\n",
    "df6[\"label\"]=6\n",
    "df7[\"label\"]=7\n",
    "df8[\"label\"]=8\n",
    "df9[\"label\"]=9"
   ]
  },
  {
   "cell_type": "code",
   "execution_count": 15,
   "id": "d36a352e",
   "metadata": {},
   "outputs": [],
   "source": [
    "data = pd.concat([df0, df1, df2, df3, df4, df5, df6, df7, df8, df9], axis=0)"
   ]
  },
  {
   "cell_type": "code",
   "execution_count": 16,
   "id": "e0acd5ec",
   "metadata": {},
   "outputs": [
    {
     "data": {
      "text/html": [
       "<div>\n",
       "<style scoped>\n",
       "    .dataframe tbody tr th:only-of-type {\n",
       "        vertical-align: middle;\n",
       "    }\n",
       "\n",
       "    .dataframe tbody tr th {\n",
       "        vertical-align: top;\n",
       "    }\n",
       "\n",
       "    .dataframe thead th {\n",
       "        text-align: right;\n",
       "    }\n",
       "</style>\n",
       "<table border=\"1\" class=\"dataframe\">\n",
       "  <thead>\n",
       "    <tr style=\"text-align: right;\">\n",
       "      <th></th>\n",
       "      <th>0</th>\n",
       "      <th>1</th>\n",
       "      <th>2</th>\n",
       "      <th>3</th>\n",
       "      <th>4</th>\n",
       "      <th>5</th>\n",
       "      <th>6</th>\n",
       "      <th>7</th>\n",
       "      <th>8</th>\n",
       "      <th>9</th>\n",
       "      <th>...</th>\n",
       "      <th>775</th>\n",
       "      <th>776</th>\n",
       "      <th>777</th>\n",
       "      <th>778</th>\n",
       "      <th>779</th>\n",
       "      <th>780</th>\n",
       "      <th>781</th>\n",
       "      <th>782</th>\n",
       "      <th>783</th>\n",
       "      <th>label</th>\n",
       "    </tr>\n",
       "  </thead>\n",
       "  <tbody>\n",
       "    <tr>\n",
       "      <th>0</th>\n",
       "      <td>30.0</td>\n",
       "      <td>30.0</td>\n",
       "      <td>30.0</td>\n",
       "      <td>30.0</td>\n",
       "      <td>30.0</td>\n",
       "      <td>30.0</td>\n",
       "      <td>30.0</td>\n",
       "      <td>30.0</td>\n",
       "      <td>30.0</td>\n",
       "      <td>30.0</td>\n",
       "      <td>...</td>\n",
       "      <td>30.0</td>\n",
       "      <td>30.0</td>\n",
       "      <td>30.0</td>\n",
       "      <td>30.0</td>\n",
       "      <td>30.0</td>\n",
       "      <td>30.0</td>\n",
       "      <td>30.0</td>\n",
       "      <td>30.0</td>\n",
       "      <td>30.0</td>\n",
       "      <td>0</td>\n",
       "    </tr>\n",
       "    <tr>\n",
       "      <th>1</th>\n",
       "      <td>30.0</td>\n",
       "      <td>30.0</td>\n",
       "      <td>30.0</td>\n",
       "      <td>30.0</td>\n",
       "      <td>30.0</td>\n",
       "      <td>30.0</td>\n",
       "      <td>30.0</td>\n",
       "      <td>30.0</td>\n",
       "      <td>30.0</td>\n",
       "      <td>30.0</td>\n",
       "      <td>...</td>\n",
       "      <td>30.0</td>\n",
       "      <td>30.0</td>\n",
       "      <td>30.0</td>\n",
       "      <td>30.0</td>\n",
       "      <td>30.0</td>\n",
       "      <td>30.0</td>\n",
       "      <td>30.0</td>\n",
       "      <td>30.0</td>\n",
       "      <td>30.0</td>\n",
       "      <td>0</td>\n",
       "    </tr>\n",
       "    <tr>\n",
       "      <th>2</th>\n",
       "      <td>30.0</td>\n",
       "      <td>30.0</td>\n",
       "      <td>30.0</td>\n",
       "      <td>30.0</td>\n",
       "      <td>30.0</td>\n",
       "      <td>30.0</td>\n",
       "      <td>30.0</td>\n",
       "      <td>30.0</td>\n",
       "      <td>30.0</td>\n",
       "      <td>30.0</td>\n",
       "      <td>...</td>\n",
       "      <td>30.0</td>\n",
       "      <td>30.0</td>\n",
       "      <td>30.0</td>\n",
       "      <td>30.0</td>\n",
       "      <td>30.0</td>\n",
       "      <td>30.0</td>\n",
       "      <td>30.0</td>\n",
       "      <td>30.0</td>\n",
       "      <td>30.0</td>\n",
       "      <td>0</td>\n",
       "    </tr>\n",
       "    <tr>\n",
       "      <th>3</th>\n",
       "      <td>30.0</td>\n",
       "      <td>30.0</td>\n",
       "      <td>30.0</td>\n",
       "      <td>30.0</td>\n",
       "      <td>30.0</td>\n",
       "      <td>30.0</td>\n",
       "      <td>30.0</td>\n",
       "      <td>30.0</td>\n",
       "      <td>30.0</td>\n",
       "      <td>30.0</td>\n",
       "      <td>...</td>\n",
       "      <td>30.0</td>\n",
       "      <td>30.0</td>\n",
       "      <td>30.0</td>\n",
       "      <td>30.0</td>\n",
       "      <td>30.0</td>\n",
       "      <td>30.0</td>\n",
       "      <td>30.0</td>\n",
       "      <td>30.0</td>\n",
       "      <td>30.0</td>\n",
       "      <td>0</td>\n",
       "    </tr>\n",
       "    <tr>\n",
       "      <th>4</th>\n",
       "      <td>30.0</td>\n",
       "      <td>30.0</td>\n",
       "      <td>30.0</td>\n",
       "      <td>30.0</td>\n",
       "      <td>30.0</td>\n",
       "      <td>30.0</td>\n",
       "      <td>30.0</td>\n",
       "      <td>30.0</td>\n",
       "      <td>30.0</td>\n",
       "      <td>30.0</td>\n",
       "      <td>...</td>\n",
       "      <td>30.0</td>\n",
       "      <td>30.0</td>\n",
       "      <td>30.0</td>\n",
       "      <td>30.0</td>\n",
       "      <td>30.0</td>\n",
       "      <td>30.0</td>\n",
       "      <td>30.0</td>\n",
       "      <td>30.0</td>\n",
       "      <td>30.0</td>\n",
       "      <td>0</td>\n",
       "    </tr>\n",
       "    <tr>\n",
       "      <th>...</th>\n",
       "      <td>...</td>\n",
       "      <td>...</td>\n",
       "      <td>...</td>\n",
       "      <td>...</td>\n",
       "      <td>...</td>\n",
       "      <td>...</td>\n",
       "      <td>...</td>\n",
       "      <td>...</td>\n",
       "      <td>...</td>\n",
       "      <td>...</td>\n",
       "      <td>...</td>\n",
       "      <td>...</td>\n",
       "      <td>...</td>\n",
       "      <td>...</td>\n",
       "      <td>...</td>\n",
       "      <td>...</td>\n",
       "      <td>...</td>\n",
       "      <td>...</td>\n",
       "      <td>...</td>\n",
       "      <td>...</td>\n",
       "      <td>...</td>\n",
       "    </tr>\n",
       "    <tr>\n",
       "      <th>46120</th>\n",
       "      <td>30.0</td>\n",
       "      <td>30.0</td>\n",
       "      <td>30.0</td>\n",
       "      <td>30.0</td>\n",
       "      <td>30.0</td>\n",
       "      <td>30.0</td>\n",
       "      <td>30.0</td>\n",
       "      <td>30.0</td>\n",
       "      <td>30.0</td>\n",
       "      <td>30.0</td>\n",
       "      <td>...</td>\n",
       "      <td>30.0</td>\n",
       "      <td>30.0</td>\n",
       "      <td>30.0</td>\n",
       "      <td>30.0</td>\n",
       "      <td>30.0</td>\n",
       "      <td>30.0</td>\n",
       "      <td>30.0</td>\n",
       "      <td>30.0</td>\n",
       "      <td>30.0</td>\n",
       "      <td>0</td>\n",
       "    </tr>\n",
       "    <tr>\n",
       "      <th>46121</th>\n",
       "      <td>30.0</td>\n",
       "      <td>30.0</td>\n",
       "      <td>30.0</td>\n",
       "      <td>30.0</td>\n",
       "      <td>30.0</td>\n",
       "      <td>30.0</td>\n",
       "      <td>30.0</td>\n",
       "      <td>30.0</td>\n",
       "      <td>30.0</td>\n",
       "      <td>30.0</td>\n",
       "      <td>...</td>\n",
       "      <td>30.0</td>\n",
       "      <td>30.0</td>\n",
       "      <td>30.0</td>\n",
       "      <td>30.0</td>\n",
       "      <td>30.0</td>\n",
       "      <td>30.0</td>\n",
       "      <td>30.0</td>\n",
       "      <td>30.0</td>\n",
       "      <td>30.0</td>\n",
       "      <td>0</td>\n",
       "    </tr>\n",
       "    <tr>\n",
       "      <th>46122</th>\n",
       "      <td>30.0</td>\n",
       "      <td>30.0</td>\n",
       "      <td>30.0</td>\n",
       "      <td>30.0</td>\n",
       "      <td>30.0</td>\n",
       "      <td>30.0</td>\n",
       "      <td>30.0</td>\n",
       "      <td>30.0</td>\n",
       "      <td>30.0</td>\n",
       "      <td>30.0</td>\n",
       "      <td>...</td>\n",
       "      <td>30.0</td>\n",
       "      <td>30.0</td>\n",
       "      <td>30.0</td>\n",
       "      <td>30.0</td>\n",
       "      <td>30.0</td>\n",
       "      <td>30.0</td>\n",
       "      <td>30.0</td>\n",
       "      <td>30.0</td>\n",
       "      <td>30.0</td>\n",
       "      <td>0</td>\n",
       "    </tr>\n",
       "    <tr>\n",
       "      <th>46123</th>\n",
       "      <td>30.0</td>\n",
       "      <td>30.0</td>\n",
       "      <td>30.0</td>\n",
       "      <td>30.0</td>\n",
       "      <td>30.0</td>\n",
       "      <td>30.0</td>\n",
       "      <td>30.0</td>\n",
       "      <td>30.0</td>\n",
       "      <td>30.0</td>\n",
       "      <td>30.0</td>\n",
       "      <td>...</td>\n",
       "      <td>30.0</td>\n",
       "      <td>30.0</td>\n",
       "      <td>30.0</td>\n",
       "      <td>30.0</td>\n",
       "      <td>30.0</td>\n",
       "      <td>30.0</td>\n",
       "      <td>30.0</td>\n",
       "      <td>30.0</td>\n",
       "      <td>30.0</td>\n",
       "      <td>0</td>\n",
       "    </tr>\n",
       "    <tr>\n",
       "      <th>46124</th>\n",
       "      <td>30.0</td>\n",
       "      <td>30.0</td>\n",
       "      <td>30.0</td>\n",
       "      <td>30.0</td>\n",
       "      <td>30.0</td>\n",
       "      <td>30.0</td>\n",
       "      <td>30.0</td>\n",
       "      <td>30.0</td>\n",
       "      <td>30.0</td>\n",
       "      <td>30.0</td>\n",
       "      <td>...</td>\n",
       "      <td>30.0</td>\n",
       "      <td>30.0</td>\n",
       "      <td>30.0</td>\n",
       "      <td>30.0</td>\n",
       "      <td>30.0</td>\n",
       "      <td>30.0</td>\n",
       "      <td>30.0</td>\n",
       "      <td>30.0</td>\n",
       "      <td>30.0</td>\n",
       "      <td>0</td>\n",
       "    </tr>\n",
       "  </tbody>\n",
       "</table>\n",
       "<p>46125 rows × 785 columns</p>\n",
       "</div>"
      ],
      "text/plain": [
       "          0     1     2     3     4     5     6     7     8     9  ...   775  \\\n",
       "0      30.0  30.0  30.0  30.0  30.0  30.0  30.0  30.0  30.0  30.0  ...  30.0   \n",
       "1      30.0  30.0  30.0  30.0  30.0  30.0  30.0  30.0  30.0  30.0  ...  30.0   \n",
       "2      30.0  30.0  30.0  30.0  30.0  30.0  30.0  30.0  30.0  30.0  ...  30.0   \n",
       "3      30.0  30.0  30.0  30.0  30.0  30.0  30.0  30.0  30.0  30.0  ...  30.0   \n",
       "4      30.0  30.0  30.0  30.0  30.0  30.0  30.0  30.0  30.0  30.0  ...  30.0   \n",
       "...     ...   ...   ...   ...   ...   ...   ...   ...   ...   ...  ...   ...   \n",
       "46120  30.0  30.0  30.0  30.0  30.0  30.0  30.0  30.0  30.0  30.0  ...  30.0   \n",
       "46121  30.0  30.0  30.0  30.0  30.0  30.0  30.0  30.0  30.0  30.0  ...  30.0   \n",
       "46122  30.0  30.0  30.0  30.0  30.0  30.0  30.0  30.0  30.0  30.0  ...  30.0   \n",
       "46123  30.0  30.0  30.0  30.0  30.0  30.0  30.0  30.0  30.0  30.0  ...  30.0   \n",
       "46124  30.0  30.0  30.0  30.0  30.0  30.0  30.0  30.0  30.0  30.0  ...  30.0   \n",
       "\n",
       "        776   777   778   779   780   781   782   783  label  \n",
       "0      30.0  30.0  30.0  30.0  30.0  30.0  30.0  30.0      0  \n",
       "1      30.0  30.0  30.0  30.0  30.0  30.0  30.0  30.0      0  \n",
       "2      30.0  30.0  30.0  30.0  30.0  30.0  30.0  30.0      0  \n",
       "3      30.0  30.0  30.0  30.0  30.0  30.0  30.0  30.0      0  \n",
       "4      30.0  30.0  30.0  30.0  30.0  30.0  30.0  30.0      0  \n",
       "...     ...   ...   ...   ...   ...   ...   ...   ...    ...  \n",
       "46120  30.0  30.0  30.0  30.0  30.0  30.0  30.0  30.0      0  \n",
       "46121  30.0  30.0  30.0  30.0  30.0  30.0  30.0  30.0      0  \n",
       "46122  30.0  30.0  30.0  30.0  30.0  30.0  30.0  30.0      0  \n",
       "46123  30.0  30.0  30.0  30.0  30.0  30.0  30.0  30.0      0  \n",
       "46124  30.0  30.0  30.0  30.0  30.0  30.0  30.0  30.0      0  \n",
       "\n",
       "[46125 rows x 785 columns]"
      ]
     },
     "execution_count": 16,
     "metadata": {},
     "output_type": "execute_result"
    }
   ],
   "source": [
    "data"
   ]
  },
  {
   "cell_type": "code",
   "execution_count": 17,
   "id": "46b5efa2",
   "metadata": {},
   "outputs": [],
   "source": [
    "data.to_csv('data.csv', index=False)"
   ]
  },
  {
   "cell_type": "code",
   "execution_count": 25,
   "id": "8a8bd54d",
   "metadata": {},
   "outputs": [
    {
     "data": {
      "text/html": [
       "<div>\n",
       "<style scoped>\n",
       "    .dataframe tbody tr th:only-of-type {\n",
       "        vertical-align: middle;\n",
       "    }\n",
       "\n",
       "    .dataframe tbody tr th {\n",
       "        vertical-align: top;\n",
       "    }\n",
       "\n",
       "    .dataframe thead th {\n",
       "        text-align: right;\n",
       "    }\n",
       "</style>\n",
       "<table border=\"1\" class=\"dataframe\">\n",
       "  <thead>\n",
       "    <tr style=\"text-align: right;\">\n",
       "      <th></th>\n",
       "      <th>0</th>\n",
       "      <th>1</th>\n",
       "      <th>2</th>\n",
       "      <th>3</th>\n",
       "      <th>4</th>\n",
       "      <th>5</th>\n",
       "      <th>6</th>\n",
       "      <th>7</th>\n",
       "      <th>8</th>\n",
       "      <th>9</th>\n",
       "      <th>...</th>\n",
       "      <th>775</th>\n",
       "      <th>776</th>\n",
       "      <th>777</th>\n",
       "      <th>778</th>\n",
       "      <th>779</th>\n",
       "      <th>780</th>\n",
       "      <th>781</th>\n",
       "      <th>782</th>\n",
       "      <th>783</th>\n",
       "      <th>index</th>\n",
       "    </tr>\n",
       "  </thead>\n",
       "  <tbody>\n",
       "    <tr>\n",
       "      <th>41995</th>\n",
       "      <td>30</td>\n",
       "      <td>30</td>\n",
       "      <td>30</td>\n",
       "      <td>30</td>\n",
       "      <td>30</td>\n",
       "      <td>30</td>\n",
       "      <td>30</td>\n",
       "      <td>30</td>\n",
       "      <td>30</td>\n",
       "      <td>30</td>\n",
       "      <td>...</td>\n",
       "      <td>30</td>\n",
       "      <td>30</td>\n",
       "      <td>30</td>\n",
       "      <td>30</td>\n",
       "      <td>30</td>\n",
       "      <td>30</td>\n",
       "      <td>30</td>\n",
       "      <td>30</td>\n",
       "      <td>30</td>\n",
       "      <td>9</td>\n",
       "    </tr>\n",
       "    <tr>\n",
       "      <th>41996</th>\n",
       "      <td>30</td>\n",
       "      <td>30</td>\n",
       "      <td>30</td>\n",
       "      <td>30</td>\n",
       "      <td>30</td>\n",
       "      <td>30</td>\n",
       "      <td>30</td>\n",
       "      <td>30</td>\n",
       "      <td>30</td>\n",
       "      <td>30</td>\n",
       "      <td>...</td>\n",
       "      <td>30</td>\n",
       "      <td>30</td>\n",
       "      <td>30</td>\n",
       "      <td>30</td>\n",
       "      <td>30</td>\n",
       "      <td>30</td>\n",
       "      <td>30</td>\n",
       "      <td>30</td>\n",
       "      <td>30</td>\n",
       "      <td>9</td>\n",
       "    </tr>\n",
       "    <tr>\n",
       "      <th>41997</th>\n",
       "      <td>30</td>\n",
       "      <td>30</td>\n",
       "      <td>30</td>\n",
       "      <td>30</td>\n",
       "      <td>30</td>\n",
       "      <td>30</td>\n",
       "      <td>30</td>\n",
       "      <td>30</td>\n",
       "      <td>30</td>\n",
       "      <td>30</td>\n",
       "      <td>...</td>\n",
       "      <td>30</td>\n",
       "      <td>30</td>\n",
       "      <td>30</td>\n",
       "      <td>30</td>\n",
       "      <td>30</td>\n",
       "      <td>30</td>\n",
       "      <td>30</td>\n",
       "      <td>30</td>\n",
       "      <td>30</td>\n",
       "      <td>9</td>\n",
       "    </tr>\n",
       "    <tr>\n",
       "      <th>41998</th>\n",
       "      <td>30</td>\n",
       "      <td>30</td>\n",
       "      <td>30</td>\n",
       "      <td>30</td>\n",
       "      <td>30</td>\n",
       "      <td>30</td>\n",
       "      <td>30</td>\n",
       "      <td>30</td>\n",
       "      <td>30</td>\n",
       "      <td>30</td>\n",
       "      <td>...</td>\n",
       "      <td>30</td>\n",
       "      <td>30</td>\n",
       "      <td>30</td>\n",
       "      <td>30</td>\n",
       "      <td>30</td>\n",
       "      <td>30</td>\n",
       "      <td>30</td>\n",
       "      <td>30</td>\n",
       "      <td>30</td>\n",
       "      <td>9</td>\n",
       "    </tr>\n",
       "    <tr>\n",
       "      <th>41999</th>\n",
       "      <td>30</td>\n",
       "      <td>30</td>\n",
       "      <td>30</td>\n",
       "      <td>30</td>\n",
       "      <td>30</td>\n",
       "      <td>30</td>\n",
       "      <td>30</td>\n",
       "      <td>30</td>\n",
       "      <td>30</td>\n",
       "      <td>30</td>\n",
       "      <td>...</td>\n",
       "      <td>30</td>\n",
       "      <td>30</td>\n",
       "      <td>30</td>\n",
       "      <td>30</td>\n",
       "      <td>30</td>\n",
       "      <td>30</td>\n",
       "      <td>30</td>\n",
       "      <td>30</td>\n",
       "      <td>30</td>\n",
       "      <td>9</td>\n",
       "    </tr>\n",
       "  </tbody>\n",
       "</table>\n",
       "<p>5 rows × 785 columns</p>\n",
       "</div>"
      ],
      "text/plain": [
       "        0   1   2   3   4   5   6   7   8   9  ...  775  776  777  778  779  \\\n",
       "41995  30  30  30  30  30  30  30  30  30  30  ...   30   30   30   30   30   \n",
       "41996  30  30  30  30  30  30  30  30  30  30  ...   30   30   30   30   30   \n",
       "41997  30  30  30  30  30  30  30  30  30  30  ...   30   30   30   30   30   \n",
       "41998  30  30  30  30  30  30  30  30  30  30  ...   30   30   30   30   30   \n",
       "41999  30  30  30  30  30  30  30  30  30  30  ...   30   30   30   30   30   \n",
       "\n",
       "       780  781  782  783  index  \n",
       "41995   30   30   30   30      9  \n",
       "41996   30   30   30   30      9  \n",
       "41997   30   30   30   30      9  \n",
       "41998   30   30   30   30      9  \n",
       "41999   30   30   30   30      9  \n",
       "\n",
       "[5 rows x 785 columns]"
      ]
     },
     "execution_count": 25,
     "metadata": {},
     "output_type": "execute_result"
    }
   ],
   "source": [
    "df = pd.read_csv('data/df_transformed.csv')\n",
    "\n",
    "df.tail()"
   ]
  },
  {
   "cell_type": "code",
   "execution_count": 26,
   "id": "7845d541",
   "metadata": {},
   "outputs": [
    {
     "data": {
      "text/plain": [
       "(42000, 785)"
      ]
     },
     "execution_count": 26,
     "metadata": {},
     "output_type": "execute_result"
    }
   ],
   "source": [
    "df.shape"
   ]
  },
  {
   "cell_type": "markdown",
   "id": "fc066f51",
   "metadata": {},
   "source": [
    "# Splitting the data"
   ]
  },
  {
   "cell_type": "code",
   "execution_count": 28,
   "id": "759d31f6",
   "metadata": {},
   "outputs": [],
   "source": [
    "x = df.iloc[:,0:784]\n",
    "y = df[\"index\"]"
   ]
  },
  {
   "cell_type": "code",
   "execution_count": 29,
   "id": "9497efc8",
   "metadata": {},
   "outputs": [],
   "source": [
    "from sklearn.model_selection import train_test_split\n",
    "\n",
    "X_train, X_test, y_train, y_test = train_test_split(x, y, train_size=0.7, random_state=100)"
   ]
  },
  {
   "cell_type": "code",
   "execution_count": 64,
   "id": "5be372e7",
   "metadata": {},
   "outputs": [
    {
     "data": {
      "image/png": "[encoded data removed]",
      "text/plain": [
       "<Figure size 1296x792 with 9 Axes>"
      ]
     },
     "metadata": {
      "needs_background": "light"
     },
     "output_type": "display_data"
    }
   ],
   "source": [
    "# Set a seed for reproducibility\n",
    "np.random.seed(0)\n",
    "\n",
    "# Select random indices for visualization\n",
    "idx = np.random.randint(0, len(X_train), 9)\n",
    "\n",
    "# Create a 3x3 subplot grid\n",
    "plt.figure(figsize=(18, 11))\n",
    "\n",
    "# Iterate through the selected indices and plot images\n",
    "for i in range(len(idx)):\n",
    "    plt.subplot(3, 3, i+1)\n",
    "    plt.title(f'Label: {y_train.iloc[idx[i]]}')\n",
    "    \n",
    "    # Reshape the pixel values to the original image dimensions (28x28)\n",
    "    grid_data = np.reshape(X_train.iloc[idx[i]].values, (28, 28))\n",
    "    \n",
    "    # Plot the reshaped image using matplotlib\n",
    "    plt.imshow(grid_data, cmap='gray')\n",
    "\n",
    "plt.show()\n"
   ]
  },
  {
   "cell_type": "markdown",
   "id": "1caa7c25",
   "metadata": {},
   "source": [
    "# Building Machine Learning Model"
   ]
  },
  {
   "cell_type": "code",
   "execution_count": 30,
   "id": "5f823c21",
   "metadata": {},
   "outputs": [],
   "source": [
    "from sklearn.model_selection import GridSearchCV, RandomizedSearchCV"
   ]
  },
  {
   "cell_type": "markdown",
   "id": "331ae0de",
   "metadata": {},
   "source": [
    "## 01. Logistic Regression"
   ]
  },
  {
   "cell_type": "code",
   "execution_count": 31,
   "id": "f9d6de3b",
   "metadata": {},
   "outputs": [
    {
     "name": "stdout",
     "output_type": "stream",
     "text": [
      "Fitting 5 folds for each of 10 candidates, totalling 50 fits\n",
      "[CV 1/5] END C=10, penalty=l2, solver=saga;, score=(train=0.946, test=0.913) total time= 1.5min\n",
      "[CV 2/5] END C=10, penalty=l2, solver=saga;, score=(train=0.945, test=0.915) total time= 1.5min\n",
      "[CV 3/5] END C=10, penalty=l2, solver=saga;, score=(train=0.948, test=0.909) total time= 1.5min\n",
      "[CV 4/5] END C=10, penalty=l2, solver=saga;, score=(train=0.948, test=0.910) total time= 1.5min\n",
      "[CV 5/5] END C=10, penalty=l2, solver=saga;, score=(train=0.947, test=0.914) total time= 1.4min\n",
      "[CV 1/5] END C=0.1, penalty=elasticnet, solver=saga;, score=(train=nan, test=nan) total time=   0.0s\n",
      "[CV 2/5] END C=0.1, penalty=elasticnet, solver=saga;, score=(train=nan, test=nan) total time=   0.0s\n",
      "[CV 3/5] END C=0.1, penalty=elasticnet, solver=saga;, score=(train=nan, test=nan) total time=   0.0s\n",
      "[CV 4/5] END C=0.1, penalty=elasticnet, solver=saga;, score=(train=nan, test=nan) total time=   0.0s\n",
      "[CV 5/5] END C=0.1, penalty=elasticnet, solver=saga;, score=(train=nan, test=nan) total time=   0.0s\n",
      "[CV 1/5] END C=100, penalty=l2, solver=saga;, score=(train=0.945, test=0.913) total time= 1.4min\n",
      "[CV 2/5] END C=100, penalty=l2, solver=saga;, score=(train=0.945, test=0.914) total time= 1.5min\n",
      "[CV 3/5] END C=100, penalty=l2, solver=saga;, score=(train=0.948, test=0.909) total time= 1.5min\n",
      "[CV 4/5] END C=100, penalty=l2, solver=saga;, score=(train=0.948, test=0.910) total time= 1.5min\n",
      "[CV 5/5] END C=100, penalty=l2, solver=saga;, score=(train=0.947, test=0.914) total time= 1.6min\n",
      "[CV 1/5] END C=0.01, penalty=l2, solver=saga;, score=(train=0.946, test=0.913) total time= 1.5min\n",
      "[CV 2/5] END C=0.01, penalty=l2, solver=saga;, score=(train=0.945, test=0.915) total time= 1.5min\n",
      "[CV 3/5] END C=0.01, penalty=l2, solver=saga;, score=(train=0.948, test=0.909) total time= 1.6min\n",
      "[CV 4/5] END C=0.01, penalty=l2, solver=saga;, score=(train=0.948, test=0.909) total time= 1.4min\n",
      "[CV 5/5] END C=0.01, penalty=l2, solver=saga;, score=(train=0.947, test=0.914) total time= 1.5min\n",
      "[CV 1/5] END C=0.001, penalty=l1, solver=saga;, score=(train=0.925, test=0.911) total time= 3.3min\n",
      "[CV 2/5] END C=0.001, penalty=l1, solver=saga;, score=(train=0.924, test=0.912) total time= 3.2min\n",
      "[CV 3/5] END C=0.001, penalty=l1, solver=saga;, score=(train=0.925, test=0.911) total time= 3.2min\n",
      "[CV 4/5] END C=0.001, penalty=l1, solver=saga;, score=(train=0.927, test=0.907) total time= 3.2min\n",
      "[CV 5/5] END C=0.001, penalty=l1, solver=saga;, score=(train=0.925, test=0.912) total time= 3.2min\n",
      "[CV 1/5] END C=0.01, penalty=l1, solver=saga;, score=(train=0.942, test=0.914) total time= 4.9min\n",
      "[CV 2/5] END C=0.01, penalty=l1, solver=saga;, score=(train=0.942, test=0.916) total time= 4.9min\n",
      "[CV 3/5] END C=0.01, penalty=l1, solver=saga;, score=(train=0.945, test=0.913) total time= 4.9min\n",
      "[CV 4/5] END C=0.01, penalty=l1, solver=saga;, score=(train=0.945, test=0.911) total time= 4.8min\n",
      "[CV 5/5] END C=0.01, penalty=l1, solver=saga;, score=(train=0.944, test=0.916) total time= 4.9min\n",
      "[CV 1/5] END C=0.01, penalty=elasticnet, solver=saga;, score=(train=nan, test=nan) total time=   0.0s\n",
      "[CV 2/5] END C=0.01, penalty=elasticnet, solver=saga;, score=(train=nan, test=nan) total time=   0.0s\n",
      "[CV 3/5] END C=0.01, penalty=elasticnet, solver=saga;, score=(train=nan, test=nan) total time=   0.0s\n",
      "[CV 4/5] END C=0.01, penalty=elasticnet, solver=saga;, score=(train=nan, test=nan) total time=   0.0s\n",
      "[CV 5/5] END C=0.01, penalty=elasticnet, solver=saga;, score=(train=nan, test=nan) total time=   0.0s\n",
      "[CV 1/5] END C=100, penalty=elasticnet, solver=saga;, score=(train=nan, test=nan) total time=   0.0s\n",
      "[CV 2/5] END C=100, penalty=elasticnet, solver=saga;, score=(train=nan, test=nan) total time=   0.0s\n",
      "[CV 3/5] END C=100, penalty=elasticnet, solver=saga;, score=(train=nan, test=nan) total time=   0.0s\n",
      "[CV 4/5] END C=100, penalty=elasticnet, solver=saga;, score=(train=nan, test=nan) total time=   0.0s\n",
      "[CV 5/5] END C=100, penalty=elasticnet, solver=saga;, score=(train=nan, test=nan) total time=   0.0s\n",
      "[CV 1/5] END C=0.1, penalty=l1, solver=saga;, score=(train=0.945, test=0.914) total time= 4.3min\n",
      "[CV 2/5] END C=0.1, penalty=l1, solver=saga;, score=(train=0.945, test=0.914) total time= 4.3min\n",
      "[CV 3/5] END C=0.1, penalty=l1, solver=saga;, score=(train=0.948, test=0.910) total time= 4.3min\n",
      "[CV 4/5] END C=0.1, penalty=l1, solver=saga;, score=(train=0.948, test=0.910) total time= 4.3min\n",
      "[CV 5/5] END C=0.1, penalty=l1, solver=saga;, score=(train=0.946, test=0.914) total time= 4.3min\n",
      "[CV 1/5] END C=0.001, penalty=l2, solver=saga;, score=(train=0.945, test=0.913) total time= 1.4min\n",
      "[CV 2/5] END C=0.001, penalty=l2, solver=saga;, score=(train=0.945, test=0.915) total time= 1.5min\n",
      "[CV 3/5] END C=0.001, penalty=l2, solver=saga;, score=(train=0.948, test=0.909) total time= 1.5min\n",
      "[CV 4/5] END C=0.001, penalty=l2, solver=saga;, score=(train=0.948, test=0.909) total time= 1.4min\n",
      "[CV 5/5] END C=0.001, penalty=l2, solver=saga;, score=(train=0.947, test=0.914) total time= 1.5min\n"
     ]
    },
    {
     "data": {
      "text/plain": [
       "RandomizedSearchCV(cv=5, estimator=LogisticRegression(),\n",
       "                   param_distributions=[{'C': [0.001, 0.01, 0.1, 1, 10, 100],\n",
       "                                         'penalty': ['l1', 'l2', 'elasticnet'],\n",
       "                                         'solver': ['saga']}],\n",
       "                   return_train_score=True, scoring='accuracy', verbose=3)"
      ]
     },
     "execution_count": 31,
     "metadata": {},
     "output_type": "execute_result"
    }
   ],
   "source": [
    "from sklearn.linear_model import LogisticRegression\n",
    "\n",
    "tuned_parameters = [{'penalty' : ['l1','l2', 'elasticnet'],\n",
    "                    'solver' : ['saga'],\n",
    "                     'C' : [0.001,0.01,0.1, 1, 10, 100]}]\n",
    "\n",
    "lr_rs = RandomizedSearchCV(\n",
    "    estimator = LogisticRegression(), # Model define to estimator\n",
    "    param_distributions = tuned_parameters, \n",
    "    scoring = 'accuracy',\n",
    "    cv=5,\n",
    "    return_train_score=True,\n",
    "    verbose=3\n",
    ")\n",
    "\n",
    "\n",
    "lr_rs.fit(X_train, y_train)"
   ]
  },
  {
   "cell_type": "code",
   "execution_count": 33,
   "id": "1ab11b45",
   "metadata": {},
   "outputs": [
    {
     "name": "stdout",
     "output_type": "stream",
     "text": [
      "Best parameters set found on train set:\n",
      "{'solver': 'saga', 'penalty': 'l1', 'C': 0.01}\n",
      "LogisticRegression(C=0.01, penalty='l1', solver='saga')\n",
      "\n",
      "Score on Test Data:  0.9210380128561225\n"
     ]
    }
   ],
   "source": [
    "print(\"Best parameters set found on train set:\")\n",
    "print(lr_rs.best_params_)\n",
    "print(lr_rs.best_estimator_)\n",
    "print()\n",
    "\n",
    "print('Score on Test Data: ', lr_rs.score(X_test, y_test))"
   ]
  },
  {
   "cell_type": "code",
   "execution_count": 34,
   "id": "0ab4138f",
   "metadata": {},
   "outputs": [
    {
     "data": {
      "text/plain": [
       "LogisticRegression(C=0.1, solver='saga')"
      ]
     },
     "execution_count": 34,
     "metadata": {},
     "output_type": "execute_result"
    }
   ],
   "source": [
    "from sklearn.metrics import classification_report\n",
    "\n",
    "classifier = LogisticRegression(penalty='l1', solver='saga', C=0.01)\n",
    "classifier.fit(X_train, y_train)"
   ]
  },
  {
   "cell_type": "code",
   "execution_count": 35,
   "id": "f884ebd4",
   "metadata": {},
   "outputs": [],
   "source": [
    "y_test_pred = classifier.predict(X_test)"
   ]
  },
  {
   "cell_type": "code",
   "execution_count": 36,
   "id": "04b36b20",
   "metadata": {},
   "outputs": [
    {
     "name": "stdout",
     "output_type": "stream",
     "text": [
      "0.9198476311403857\n",
      "              precision    recall  f1-score   support\n",
      "\n",
      "           0       0.95      0.98      0.96      1222\n",
      "           1       0.96      0.97      0.96      1434\n",
      "           2       0.92      0.90      0.91      1252\n",
      "           3       0.89      0.89      0.89      1307\n",
      "           4       0.92      0.93      0.92      1218\n",
      "           5       0.88      0.85      0.86      1116\n",
      "           6       0.95      0.96      0.96      1242\n",
      "           7       0.92      0.93      0.93      1311\n",
      "           8       0.89      0.88      0.88      1231\n",
      "           9       0.91      0.91      0.91      1268\n",
      "\n",
      "    accuracy                           0.92     12601\n",
      "   macro avg       0.92      0.92      0.92     12601\n",
      "weighted avg       0.92      0.92      0.92     12601\n",
      "\n"
     ]
    }
   ],
   "source": [
    "from sklearn.metrics import accuracy_score, classification_report\n",
    "\n",
    "print(accuracy_score(y_test, y_test_pred))\n",
    "\n",
    "print(classification_report(y_test, y_test_pred))"
   ]
  },
  {
   "cell_type": "markdown",
   "id": "eb309e0f",
   "metadata": {},
   "source": [
    "## 02. Decision tree"
   ]
  },
  {
   "cell_type": "code",
   "execution_count": 37,
   "id": "1902bb85",
   "metadata": {},
   "outputs": [
    {
     "name": "stdout",
     "output_type": "stream",
     "text": [
      "Fitting 5 folds for each of 10 candidates, totalling 50 fits\n",
      "[CV 1/5] END criterion=gini, max_depth=1;, score=(train=0.192, test=0.192) total time=   0.3s\n",
      "[CV 2/5] END criterion=gini, max_depth=1;, score=(train=0.192, test=0.192) total time=   0.3s\n",
      "[CV 3/5] END criterion=gini, max_depth=1;, score=(train=0.197, test=0.196) total time=   0.3s\n",
      "[CV 4/5] END criterion=gini, max_depth=1;, score=(train=0.198, test=0.194) total time=   0.3s\n",
      "[CV 5/5] END criterion=gini, max_depth=1;, score=(train=0.192, test=0.191) total time=   0.3s\n",
      "[CV 1/5] END criterion=gini, max_depth=2;, score=(train=0.339, test=0.337) total time=   0.6s\n",
      "[CV 2/5] END criterion=gini, max_depth=2;, score=(train=0.339, test=0.337) total time=   0.6s\n",
      "[CV 3/5] END criterion=gini, max_depth=2;, score=(train=0.342, test=0.339) total time=   0.6s\n",
      "[CV 4/5] END criterion=gini, max_depth=2;, score=(train=0.341, test=0.339) total time=   0.6s\n",
      "[CV 5/5] END criterion=gini, max_depth=2;, score=(train=0.339, test=0.337) total time=   0.6s\n",
      "[CV 1/5] END criterion=gini, max_depth=3;, score=(train=0.457, test=0.457) total time=   0.8s\n",
      "[CV 2/5] END criterion=gini, max_depth=3;, score=(train=0.457, test=0.455) total time=   0.8s\n",
      "[CV 3/5] END criterion=gini, max_depth=3;, score=(train=0.432, test=0.433) total time=   0.8s\n",
      "[CV 4/5] END criterion=gini, max_depth=3;, score=(train=0.430, test=0.420) total time=   0.8s\n",
      "[CV 5/5] END criterion=gini, max_depth=3;, score=(train=0.457, test=0.459) total time=   0.8s\n",
      "[CV 1/5] END criterion=gini, max_depth=4;, score=(train=0.633, test=0.629) total time=   1.1s\n",
      "[CV 2/5] END criterion=gini, max_depth=4;, score=(train=0.634, test=0.628) total time=   1.1s\n",
      "[CV 3/5] END criterion=gini, max_depth=4;, score=(train=0.561, test=0.562) total time=   1.1s\n",
      "[CV 4/5] END criterion=gini, max_depth=4;, score=(train=0.557, test=0.542) total time=   1.1s\n",
      "[CV 5/5] END criterion=gini, max_depth=4;, score=(train=0.632, test=0.633) total time=   1.1s\n",
      "[CV 1/5] END criterion=gini, max_depth=5;, score=(train=0.686, test=0.677) total time=   1.4s\n",
      "[CV 2/5] END criterion=gini, max_depth=5;, score=(train=0.691, test=0.677) total time=   1.7s\n",
      "[CV 3/5] END criterion=gini, max_depth=5;, score=(train=0.653, test=0.649) total time=   1.4s\n",
      "[CV 4/5] END criterion=gini, max_depth=5;, score=(train=0.671, test=0.659) total time=   1.4s\n",
      "[CV 5/5] END criterion=gini, max_depth=5;, score=(train=0.690, test=0.681) total time=   1.4s\n",
      "[CV 1/5] END criterion=entropy, max_depth=1;, score=(train=0.204, test=0.204) total time=   0.3s\n",
      "[CV 2/5] END criterion=entropy, max_depth=1;, score=(train=0.203, test=0.203) total time=   0.4s\n",
      "[CV 3/5] END criterion=entropy, max_depth=1;, score=(train=0.204, test=0.204) total time=   0.3s\n",
      "[CV 4/5] END criterion=entropy, max_depth=1;, score=(train=0.203, test=0.201) total time=   0.4s\n",
      "[CV 5/5] END criterion=entropy, max_depth=1;, score=(train=0.203, test=0.203) total time=   0.3s\n",
      "[CV 1/5] END criterion=entropy, max_depth=2;, score=(train=0.332, test=0.333) total time=   0.6s\n",
      "[CV 2/5] END criterion=entropy, max_depth=2;, score=(train=0.334, test=0.331) total time=   0.6s\n",
      "[CV 3/5] END criterion=entropy, max_depth=2;, score=(train=0.338, test=0.337) total time=   0.6s\n",
      "[CV 4/5] END criterion=entropy, max_depth=2;, score=(train=0.332, test=0.337) total time=   0.6s\n",
      "[CV 5/5] END criterion=entropy, max_depth=2;, score=(train=0.334, test=0.332) total time=   0.6s\n",
      "[CV 1/5] END criterion=entropy, max_depth=3;, score=(train=0.514, test=0.510) total time=   1.0s\n",
      "[CV 2/5] END criterion=entropy, max_depth=3;, score=(train=0.493, test=0.488) total time=   1.0s\n",
      "[CV 3/5] END criterion=entropy, max_depth=3;, score=(train=0.487, test=0.489) total time=   1.0s\n",
      "[CV 4/5] END criterion=entropy, max_depth=3;, score=(train=0.491, test=0.497) total time=   1.0s\n",
      "[CV 5/5] END criterion=entropy, max_depth=3;, score=(train=0.494, test=0.486) total time=   1.0s\n",
      "[CV 1/5] END criterion=entropy, max_depth=4;, score=(train=0.620, test=0.612) total time=   1.4s\n",
      "[CV 2/5] END criterion=entropy, max_depth=4;, score=(train=0.610, test=0.603) total time=   1.4s\n",
      "[CV 3/5] END criterion=entropy, max_depth=4;, score=(train=0.603, test=0.603) total time=   1.4s\n",
      "[CV 4/5] END criterion=entropy, max_depth=4;, score=(train=0.613, test=0.614) total time=   1.4s\n",
      "[CV 5/5] END criterion=entropy, max_depth=4;, score=(train=0.612, test=0.595) total time=   1.4s\n",
      "[CV 1/5] END criterion=entropy, max_depth=5;, score=(train=0.690, test=0.679) total time=   2.0s\n",
      "[CV 2/5] END criterion=entropy, max_depth=5;, score=(train=0.690, test=0.686) total time=   2.0s\n",
      "[CV 3/5] END criterion=entropy, max_depth=5;, score=(train=0.688, test=0.686) total time=   1.9s\n",
      "[CV 4/5] END criterion=entropy, max_depth=5;, score=(train=0.687, test=0.684) total time=   2.0s\n",
      "[CV 5/5] END criterion=entropy, max_depth=5;, score=(train=0.699, test=0.683) total time=   1.9s\n"
     ]
    },
    {
     "data": {
      "text/plain": [
       "RandomizedSearchCV(cv=5, estimator=DecisionTreeClassifier(),\n",
       "                   param_distributions={'criterion': ['gini', 'entropy'],\n",
       "                                        'max_depth': [1, 2, 3, 4, 5]},\n",
       "                   return_train_score=True, scoring='accuracy', verbose=3)"
      ]
     },
     "execution_count": 37,
     "metadata": {},
     "output_type": "execute_result"
    }
   ],
   "source": [
    "from sklearn.tree import DecisionTreeClassifier\n",
    "\n",
    "tuned_parameters = {'criterion' : ['gini','entropy'],\n",
    "                    'max_depth' : [1,2,3,4,5]}\n",
    "\n",
    "dt_rs = RandomizedSearchCV(\n",
    "    estimator=DecisionTreeClassifier(), \n",
    "    param_distributions=tuned_parameters, \n",
    "    scoring='accuracy',\n",
    "    cv=5,\n",
    "    return_train_score=True,\n",
    "    verbose=3\n",
    ")\n",
    "\n",
    "dt_rs.fit(X_train, y_train)"
   ]
  },
  {
   "cell_type": "code",
   "execution_count": 38,
   "id": "3a759a64",
   "metadata": {},
   "outputs": [
    {
     "name": "stdout",
     "output_type": "stream",
     "text": [
      "Best parameters set found on train set:\n",
      "{'max_depth': 5, 'criterion': 'entropy'}\n",
      "DecisionTreeClassifier(criterion='entropy', max_depth=5)\n",
      "\n",
      "Score on Test Data:  0.6903420363463217\n"
     ]
    }
   ],
   "source": [
    "print(\"Best parameters set found on train set:\")\n",
    "print(dt_rs.best_params_)\n",
    "print(dt_rs.best_estimator_)\n",
    "print()\n",
    "\n",
    "print('Score on Test Data: ', dt_rs.score(X_test, y_test))"
   ]
  },
  {
   "cell_type": "markdown",
   "id": "a81e8710",
   "metadata": {},
   "source": [
    "## 03. Random Forest"
   ]
  },
  {
   "cell_type": "code",
   "execution_count": 39,
   "id": "f225812e",
   "metadata": {},
   "outputs": [
    {
     "data": {
      "text/plain": [
       "RandomForestClassifier()"
      ]
     },
     "execution_count": 39,
     "metadata": {},
     "output_type": "execute_result"
    }
   ],
   "source": [
    "from sklearn.ensemble import RandomForestClassifier\n",
    "\n",
    "model_rf = RandomForestClassifier()\n",
    "\n",
    "model_rf.fit(X_train, y_train)"
   ]
  },
  {
   "cell_type": "code",
   "execution_count": 41,
   "id": "e0b833ec",
   "metadata": {},
   "outputs": [],
   "source": [
    "predictions = model_rf.predict(X_test)"
   ]
  },
  {
   "cell_type": "code",
   "execution_count": 42,
   "id": "2f45ea91",
   "metadata": {},
   "outputs": [
    {
     "name": "stdout",
     "output_type": "stream",
     "text": [
      "********** Accuracy **********\n",
      "0.9649234187762876\n",
      "\n",
      "********** Conf Matrix **********\n",
      "[[1213    0    1    0    1    1    2    1    2    1]\n",
      " [   0 1410    7    6    2    1    1    2    3    2]\n",
      " [   5    2 1201    7    5    1    3   13   12    3]\n",
      " [   0    1    9 1229    1   20    3   13   23    8]\n",
      " [   0    1    0    0 1180    0    9    2    8   18]\n",
      " [   3    0    0   23    3 1070    6    2    3    6]\n",
      " [   4    0    1    0    5    8 1223    0    1    0]\n",
      " [   2    8   13    3    2    0    0 1266    0   17]\n",
      " [   2    4    2    7    5    6    6    0 1177   22]\n",
      " [   5    1    3   21   17    3    1   17   10 1190]]\n",
      "\n",
      "********** Class Report **********\n",
      "              precision    recall  f1-score   support\n",
      "\n",
      "           0       0.98      0.99      0.99      1222\n",
      "           1       0.99      0.98      0.99      1434\n",
      "           2       0.97      0.96      0.97      1252\n",
      "           3       0.95      0.94      0.94      1307\n",
      "           4       0.97      0.97      0.97      1218\n",
      "           5       0.96      0.96      0.96      1116\n",
      "           6       0.98      0.98      0.98      1242\n",
      "           7       0.96      0.97      0.96      1311\n",
      "           8       0.95      0.96      0.95      1231\n",
      "           9       0.94      0.94      0.94      1268\n",
      "\n",
      "    accuracy                           0.96     12601\n",
      "   macro avg       0.96      0.96      0.96     12601\n",
      "weighted avg       0.96      0.96      0.96     12601\n",
      "\n",
      "\n"
     ]
    }
   ],
   "source": [
    "from sklearn.metrics import accuracy_score, classification_report, confusion_matrix\n",
    "\n",
    "print('*'*10, 'Accuracy', '*'*10)\n",
    "print(accuracy_score(y_test,predictions))\n",
    "print()\n",
    "\n",
    "print('*'*10, 'Conf Matrix', '*'*10)\n",
    "print(confusion_matrix(y_test,predictions))\n",
    "print()\n",
    "\n",
    "print('*'*10, 'Class Report', '*'*10)\n",
    "print(classification_report(y_test,predictions))\n",
    "print()"
   ]
  },
  {
   "cell_type": "markdown",
   "id": "00fe7420",
   "metadata": {},
   "source": [
    "# Lets save our models"
   ]
  },
  {
   "cell_type": "code",
   "execution_count": 66,
   "id": "aa9791ff",
   "metadata": {},
   "outputs": [
    {
     "name": "stdout",
     "output_type": "stream",
     "text": [
      "Logistic Regression Model saved successfully.\n",
      "Decision Tree Model saved successfully.\n",
      "RandomForestClassifier Model saved successfully.\n"
     ]
    }
   ],
   "source": [
    "import pickle\n",
    "\n",
    "# Save the model to a file\n",
    "with open('Logistic Regression.pkl', 'wb') as file:\n",
    "    pickle.dump(classifier, file)\n",
    "print(\"Logistic Regression Model saved successfully.\")\n",
    "\n",
    "with open('Decision Tree.pkl', 'wb') as file:\n",
    "    pickle.dump(dt_rs, file)\n",
    "print(\"Decision Tree Model saved successfully.\")\n",
    "\n",
    "with open('RandomForestClassifier.pkl', 'wb') as file:\n",
    "    pickle.dump(model_rf, file)\n",
    "print(\"RandomForestClassifier Model saved successfully.\")"
   ]
  },
  {
   "cell_type": "code",
   "execution_count": null,
   "id": "f9c8c71c",
   "metadata": {},
   "outputs": [],
   "source": []
  }
 ],
 "metadata": {
  "kernelspec": {
   "display_name": "Python 3 (ipykernel)",
   "language": "python",
   "name": "python3"
  },
  "language_info": {
   "codemirror_mode": {
    "name": "ipython",
    "version": 3
   },
   "file_extension": ".py",
   "mimetype": "text/x-python",
   "name": "python",
   "nbconvert_exporter": "python",
   "pygments_lexer": "ipython3",
   "version": "3.9.7"
  }
 },
 "nbformat": 4,
 "nbformat_minor": 5
}
